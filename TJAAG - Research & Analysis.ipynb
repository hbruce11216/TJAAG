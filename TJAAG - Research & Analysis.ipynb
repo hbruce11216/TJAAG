{
 "cells": [
  {
   "cell_type": "markdown",
   "metadata": {},
   "source": [
    "# TJAAG - Research & Analysis (Project #4)\n",
    "Holden Bruce\n",
    "\n",
    "For the TJAAG Research & Data project, I will be focused on modeling the relationship between geography, wealth, and admissions.\n",
    "\n",
    "#### What I was tasked with:\n",
    "- Create charts showing average wealth of an MS [I think that means middle school] median income over time\n",
    " - How I am going to solve this:\n",
    "   - Using census data per zipcode/neighborhood/town to estimate the average wealth of a middle schooler. While this is not a perfect representation, it will be good enough to give a general sense of the wealth of the middle school because ostensibly people live in districts (especially when they have money) so that their children can go there. I will be using family income instead of household income.\n",
    "   - It might also be a good idea to find data on percentage of middle school aged children living in each zipcode who attend their local public middle school vs enrolling in a private middle school?\n",
    "<br><br>\n",
    "- TJ admittances by middle school over time (highlight)\n",
    " - <i>see below</i>\n",
    "<br><br>\n",
    "- Relationship between draw district median income and TJ admittees; for AAP centers make sure to also compare their regular district vs AAP draw area;\n",
    "time-series chloropleths showing the change in the geographic distribution of wealth and TJ admittees over time\n",
    " - <i>challenging</i>\n"
   ]
  },
  {
   "cell_type": "markdown",
   "metadata": {},
   "source": [
    "## Part 1\n",
    "For TJAAG, apparently, I only need to find the median household income for each middle school region. So, I think it will make sense to first identify which zip codes correspond to which middle schools. Then, compare the census data on median household income over time, grouping by these zipcodes. \n",
    "\n",
    "#identify which zip codes correspond to which middle schools \n",
    "\n",
    "Once I have this data loaded in, I will need to figure out how to approximate the wealth of each middle school where there are multiple middle schools per town...\n",
    "How will I do this? Zillow had an interesting region tracker that showed housing prices for middle school regions but that data isn't readily available and does not have direct information on the ~income~ of the families, which is what we are really looking for.\n",
    "\n",
    "#### Zillow \n",
    "My first thought was to use the Zillow API since I know that you can search for houses based on school district. My thought was that home prices could be a proxy for wealth. Unfortunately, their API does not let you store data (only display on webpages) and the API documentation indicates that the 'search by school' feature of their webpage is not an accessible endpoint from their API. In other words: we can't do this. \n",
    "\n",
    "#### Census\n",
    "I have data on the family/household income per town in Fairfax County, VA in 2017. I'm interested in looking at the median income of families so that I can estimate the wealth of Middle School families per each middle school in the county. This data is for 2017 and is an average of the past 5 years (I think?) meaning that we don't have year-by-year data to match the admissions statistics for TJ.\n",
    "\n",
    "I searched through a lot of Census data to try to find what was asked of me but unfortunately, I could not find year-by-year income data; the ACS collects their data in a census fashion every 5 years. I will continue looking for other data sources because it is surprising to me that I couldn't find this data, but for now I am only using data from 2017, which is the only year the Census had on their site for exporting."
   ]
  },
  {
   "cell_type": "code",
   "execution_count": 38,
   "metadata": {},
   "outputs": [],
   "source": [
    "import pandas as pd\n",
    "import numpy as np\n",
    "import matplotlib.pyplot as plt\n",
    "import plotly.express as px"
   ]
  },
  {
   "cell_type": "code",
   "execution_count": 11,
   "metadata": {},
   "outputs": [],
   "source": [
    "# What I was able to find was Family Income data collected in 2017 for every town in Fairfax County\n",
    "# https://data.census.gov/cedsci/table?g=1600000US5179952&tid=ACSDP5Y2016.DP03&hidePreview=true\n",
    "\n",
    "# here I load in the data\n",
    "fairfax_towns = pd.read_csv('family_income_fairfax_towns.csv', header=0, index_col=0)\n",
    "tysons = pd.read_csv('family_income_fairfax_towns_just_tysons.csv', header=0, index_col=0)\n",
    "fairfax_towns = pd.concat([fairfax_towns,tysons], axis=1)"
   ]
  },
  {
   "cell_type": "code",
   "execution_count": 14,
   "metadata": {},
   "outputs": [
    {
     "data": {
      "text/plain": [
       "Fairfax County, Virginia!!Estimate                         33,164\n",
       "Fairfax County, Virginia!!Margin of Error                    ±717\n",
       "Fairfax County, Virginia!!Percent                          33,164\n",
       "Fairfax County, Virginia!!Percent Margin of Error             (X)\n",
       "Alexandria city, Virginia!!Estimate                         9,678\n",
       "                                                            ...  \n",
       "West Springfield CDP, Virginia!!Percent Margin of Error       (X)\n",
       "Tysons Corner CDP, Virginia!!Estimate                       5,509\n",
       "Tysons Corner CDP, Virginia!!Margin of Error                 ±411\n",
       "Tysons Corner CDP, Virginia!!Percent                        5,509\n",
       "Tysons Corner CDP, Virginia!!Percent Margin of Error          (X)\n",
       "Name: Families, Length: 92, dtype: object"
      ]
     },
     "execution_count": 14,
     "metadata": {},
     "output_type": "execute_result"
    }
   ],
   "source": [
    "fairfax_towns.columns #loc[:,'Families']\n",
    "\n",
    "#indexing this way searches by row, so the [0] is the first row of the\n",
    "#pandas dataframe, which is 'Families' ... every columns gets returned \n",
    "fairfax_towns.iloc[0] "
   ]
  },
  {
   "cell_type": "code",
   "execution_count": 15,
   "metadata": {},
   "outputs": [
    {
     "data": {
      "text/plain": [
       "'33,164'"
      ]
     },
     "execution_count": 15,
     "metadata": {},
     "output_type": "execute_result"
    }
   ],
   "source": [
    "#adding the second number allows you to index into the specific column \n",
    "#(in this case, the column at index 0 = Fairfax County, Virginia!!Estimate)\n",
    "fairfax_towns.iloc[0][0] "
   ]
  },
  {
   "cell_type": "code",
   "execution_count": 17,
   "metadata": {},
   "outputs": [],
   "source": [
    "# Then I looked online to find a list of all the Middle Schools in Fairfax County and \n",
    "# where they were located.\n",
    "\n",
    "# https://en.wikipedia.org/wiki/List_of_Fairfax_County_Public_Schools_middle_schools\n",
    "towns = {\n",
    "    0: 'Fairfax County',\n",
    "    4: 'Alexandria',\n",
    "    8: 'Annandale',\n",
    "    12: 'Burke',\n",
    "    16: 'Centreville',\n",
    "    20: 'Chantilly',\n",
    "    24: 'Clifton',\n",
    "    28: 'Dunn Loring',\n",
    "    32: 'Fairfax',\n",
    "    36: 'Falls Church',\n",
    "    40: 'Fort Hunt',\n",
    "    44: 'Herndon',\n",
    "    48: 'Hybla Valley',\n",
    "    52: 'Lincolnia',\n",
    "    56: 'Lorton',\n",
    "    60: 'McLean',\n",
    "    64: 'Merrifield',\n",
    "    68: 'Reston',\n",
    "    72: 'Rose Hill',\n",
    "    76: 'Springfield',\n",
    "    80: 'West Springfield',\n",
    "    84: 'Tysons Corner'\n",
    "}\n",
    "# There are 21 towns/sub-regions listed here...Vienna not listed, Tysons Corner added\n",
    "# Great Falls not listed, Hybla Valley and Lincolnia added\n",
    "# Used specificity here to designate where middle schools are located\n",
    "\n",
    "# While this is a good start, it might make sense to add every single region in fairfax\n",
    "# county and then simply group by locations of elementary schools that feed to the middle\n",
    "# schools so that i create my own regions to analyze \n",
    "\n",
    "# I indexed this way (skipping by 4) to match the setup of the csv file I have, \n",
    "# where the information we need for this project is held in every 4th column"
   ]
  },
  {
   "cell_type": "markdown",
   "metadata": {},
   "source": [
    "## Note: \n",
    "Something to consider for later: What would be a good idea for me to do next is to get more specificity around the regions that the Middle Schools are pulling from. In this first pass, I am comparing the median family income of towns to the town in which the middle school is located. But if a middle school pulls from multiple towns, then factoring in the percentage of the school is comprised for students from those towns would be a helpful calculation to track.\n",
    "\n",
    "### Note:\n",
    "Liberty Middle School is in Chantilly, which only has 85 families, but the MS \n",
    "has over 1100 kids...so clearly they are bringing in students from surrounding\n",
    "neighborhoods. \n",
    "\n",
    "Rocky Run is another example of a school that needs to be given some more thought\n",
    "since it is on the border of a bunch of different town lines and draws students\n",
    "from many locations. \n",
    "\n",
    "Estimating average wealth for these middle schools is going to be difficult. "
   ]
  },
  {
   "cell_type": "code",
   "execution_count": 18,
   "metadata": {},
   "outputs": [],
   "source": [
    "# now save down the relevant information to different variables\n",
    "\n",
    "# the mean amount a family (households occupied by 2+ people related by birth, marrigae, adoption) is pulling in \n",
    "median_family_income = fairfax_towns.iloc[11]\n",
    "\n",
    "# the average amount a family (households occupied by 2+ people related by birth, marrigae, adoption) is pulling in \n",
    "mean_family_income = fairfax_towns.iloc[12]\n",
    "\n",
    "# the average income earned by each person in a given area\n",
    "per_capita_income = fairfax_towns.iloc[13] "
   ]
  },
  {
   "cell_type": "markdown",
   "metadata": {},
   "source": [
    "### Note: \n",
    "Something to consider for later: maybe I could consider families twice the national alverage in income as well as families below the federal poverty line as relevant key statistics?"
   ]
  },
  {
   "cell_type": "code",
   "execution_count": 19,
   "metadata": {},
   "outputs": [
    {
     "name": "stdout",
     "output_type": "stream",
     "text": [
      "Fairfax County\n",
      "# of Families in Fairfax County: 33,164\n",
      "Median Family Income in Fairfax County: 119,485\n",
      "Mean Family Income in Fairfax County: 152,903\n",
      "Per Capita Income in Fairfax County: 57,019\n",
      "Alexandria\n",
      "# of Families in Alexandria: 9,678\n",
      "Median Family Income in Alexandria: 93,099\n",
      "Mean Family Income in Alexandria: 119,244\n",
      "Per Capita Income in Alexandria: 36,747\n",
      "Annandale\n",
      "# of Families in Annandale: 11,365\n",
      "Median Family Income in Annandale: 144,937\n",
      "Mean Family Income in Annandale: 160,248\n",
      "Per Capita Income in Annandale: 48,996\n",
      "Burke\n",
      "# of Families in Burke: 18,254\n",
      "Median Family Income in Burke: 118,827\n",
      "Mean Family Income in Burke: 139,963\n",
      "Per Capita Income in Burke: 43,630\n",
      "Centreville\n",
      "# of Families in Centreville: 5,915\n",
      "Median Family Income in Centreville: 123,554\n",
      "Mean Family Income in Centreville: 146,835\n",
      "Per Capita Income in Centreville: 43,856\n",
      "Chantilly\n",
      "# of Families in Chantilly: 85\n",
      "Median Family Income in Chantilly: 176,875\n",
      "Mean Family Income in Chantilly: 290,967\n",
      "Per Capita Income in Chantilly: 104,645\n",
      "Clifton\n",
      "# of Families in Clifton: 2,559\n",
      "Median Family Income in Clifton: 182,443\n",
      "Mean Family Income in Clifton: 208,669\n",
      "Per Capita Income in Clifton: 63,443\n",
      "Dunn Loring\n",
      "# of Families in Dunn Loring: 5,680\n",
      "Median Family Income in Dunn Loring: 127,808\n",
      "Mean Family Income in Dunn Loring: 149,755\n",
      "Per Capita Income in Dunn Loring: 46,489\n",
      "Fairfax\n",
      "# of Families in Fairfax: 4,832\n",
      "Median Family Income in Fairfax: 195,553\n",
      "Mean Family Income in Fairfax: 214,184\n",
      "Per Capita Income in Fairfax: 69,236\n",
      "Falls Church\n",
      "# of Families in Falls Church: 5,572\n",
      "Median Family Income in Falls Church: 113,162\n",
      "Mean Family Income in Falls Church: 128,610\n",
      "Per Capita Income in Falls Church: 40,376\n",
      "Fort Hunt\n",
      "# of Families in Fort Hunt: 3,744\n",
      "Median Family Income in Fort Hunt: 66,512\n",
      "Mean Family Income in Fort Hunt: 89,539\n",
      "Per Capita Income in Fort Hunt: 28,394\n",
      "Herndon\n",
      "# of Families in Herndon: 5,583\n",
      "Median Family Income in Herndon: 87,372\n",
      "Mean Family Income in Herndon: 116,627\n",
      "Per Capita Income in Herndon: 40,961\n",
      "Hybla Valley\n",
      "# of Families in Hybla Valley: 4,818\n",
      "Median Family Income in Hybla Valley: 104,922\n",
      "Mean Family Income in Hybla Valley: 120,841\n",
      "Per Capita Income in Hybla Valley: 38,777\n",
      "Lincolnia\n",
      "# of Families in Lincolnia: 13,162\n",
      "Median Family Income in Lincolnia: 229,231\n",
      "Mean Family Income in Lincolnia: 320,386\n",
      "Per Capita Income in Lincolnia: 100,181\n",
      "Lorton\n",
      "# of Families in Lorton: 3,700\n",
      "Median Family Income in Lorton: 128,125\n",
      "Mean Family Income in Lorton: 137,960\n",
      "Per Capita Income in Lorton: 53,527\n",
      "McLean\n",
      "# of Families in McLean: 14,775\n",
      "Median Family Income in McLean: 133,273\n",
      "Mean Family Income in McLean: 162,035\n",
      "Per Capita Income in McLean: 61,815\n",
      "Merrifield\n",
      "# of Families in Merrifield: 5,195\n",
      "Median Family Income in Merrifield: 139,955\n",
      "Mean Family Income in Merrifield: 158,599\n",
      "Per Capita Income in Merrifield: 47,669\n",
      "Reston\n",
      "# of Families in Reston: 6,911\n",
      "Median Family Income in Reston: 104,200\n",
      "Mean Family Income in Reston: 124,897\n",
      "Per Capita Income in Reston: 38,816\n",
      "Rose Hill\n",
      "# of Families in Rose Hill: 5,195\n",
      "Median Family Income in Rose Hill: 139,955\n",
      "Mean Family Income in Rose Hill: 158,599\n",
      "Per Capita Income in Rose Hill: 47,669\n",
      "Springfield\n",
      "# of Families in Springfield: 6,911\n",
      "Median Family Income in Springfield: 104,200\n",
      "Mean Family Income in Springfield: 124,897\n",
      "Per Capita Income in Springfield: 38,816\n",
      "West Springfield\n",
      "# of Families in West Springfield: 4,440\n",
      "Median Family Income in West Springfield: 167,879\n",
      "Mean Family Income in West Springfield: 215,437\n",
      "Per Capita Income in West Springfield: 66,593\n",
      "Tysons Corner\n",
      "# of Families in Tysons Corner: 6,017\n",
      "Median Family Income in Tysons Corner: 138,782\n",
      "Mean Family Income in Tysons Corner: 152,658\n",
      "Per Capita Income in Tysons Corner: 50,311\n"
     ]
    }
   ],
   "source": [
    "# Loop through the data and add the relevant information, changing the string to an integer\n",
    "# so that we can actually process numerical values when considering family income \n",
    "\n",
    "num_families_in_town = {}\n",
    "median_family_income = {}\n",
    "mean_family_income = {}\n",
    "per_capita_income = {}\n",
    "\n",
    "for i in range(0, 85, 4):\n",
    "    print(towns[i])\n",
    "    print(\"# of Families in {}:\".format(towns[i]), fairfax_towns.iloc[0][i])\n",
    "    num_families_in_town[towns[i]] = int(fairfax_towns.iloc[0][i].replace(',',''))\n",
    "    print(\"Median Family Income in {}:\".format(towns[i]), fairfax_towns.iloc[11][i])\n",
    "    median_family_income[towns[i]] = int(fairfax_towns.iloc[11][i].replace(',',''))\n",
    "    print(\"Mean Family Income in {}:\".format(towns[i]), fairfax_towns.iloc[12][i])\n",
    "    mean_family_income[towns[i]] = int(fairfax_towns.iloc[12][i].replace(',',''))\n",
    "    print(\"Per Capita Income in {}:\".format(towns[i]), fairfax_towns.iloc[13][i])\n",
    "    per_capita_income[towns[i]] = int(fairfax_towns.iloc[13][i].replace(',',''))"
   ]
  },
  {
   "cell_type": "code",
   "execution_count": 21,
   "metadata": {},
   "outputs": [
    {
     "data": {
      "text/html": [
       "<div>\n",
       "<style scoped>\n",
       "    .dataframe tbody tr th:only-of-type {\n",
       "        vertical-align: middle;\n",
       "    }\n",
       "\n",
       "    .dataframe tbody tr th {\n",
       "        vertical-align: top;\n",
       "    }\n",
       "\n",
       "    .dataframe thead th {\n",
       "        text-align: right;\n",
       "    }\n",
       "</style>\n",
       "<table border=\"1\" class=\"dataframe\">\n",
       "  <thead>\n",
       "    <tr style=\"text-align: right;\">\n",
       "      <th></th>\n",
       "      <th>School</th>\n",
       "      <th>Town</th>\n",
       "      <th>Region</th>\n",
       "      <th>Total Tested</th>\n",
       "      <th>Total Semi-finalists</th>\n",
       "      <th>Total Admitted</th>\n",
       "    </tr>\n",
       "  </thead>\n",
       "  <tbody>\n",
       "    <tr>\n",
       "      <th>0</th>\n",
       "      <td>Carson</td>\n",
       "      <td>Herndon</td>\n",
       "      <td>1</td>\n",
       "      <td>217</td>\n",
       "      <td>147</td>\n",
       "      <td>64</td>\n",
       "    </tr>\n",
       "    <tr>\n",
       "      <th>1</th>\n",
       "      <td>Cooper</td>\n",
       "      <td>McLean</td>\n",
       "      <td>1</td>\n",
       "      <td>30</td>\n",
       "      <td>17</td>\n",
       "      <td>5</td>\n",
       "    </tr>\n",
       "    <tr>\n",
       "      <th>2</th>\n",
       "      <td>Franklin</td>\n",
       "      <td>Chantilly</td>\n",
       "      <td>5</td>\n",
       "      <td>41</td>\n",
       "      <td>22</td>\n",
       "      <td>2</td>\n",
       "    </tr>\n",
       "    <tr>\n",
       "      <th>3</th>\n",
       "      <td>Frost</td>\n",
       "      <td>Fairfax</td>\n",
       "      <td>5</td>\n",
       "      <td>105</td>\n",
       "      <td>61</td>\n",
       "      <td>21</td>\n",
       "    </tr>\n",
       "    <tr>\n",
       "      <th>4</th>\n",
       "      <td>Glasgow</td>\n",
       "      <td>Lincolnia</td>\n",
       "      <td>2</td>\n",
       "      <td>66</td>\n",
       "      <td>12</td>\n",
       "      <td>3</td>\n",
       "    </tr>\n",
       "  </tbody>\n",
       "</table>\n",
       "</div>"
      ],
      "text/plain": [
       "     School       Town  Region  Total Tested  Total Semi-finalists  \\\n",
       "0    Carson    Herndon       1           217                   147   \n",
       "1    Cooper     McLean       1            30                    17   \n",
       "2  Franklin  Chantilly       5            41                    22   \n",
       "3     Frost    Fairfax       5           105                    61   \n",
       "4   Glasgow  Lincolnia       2            66                    12   \n",
       "\n",
       "   Total Admitted  \n",
       "0              64  \n",
       "1               5  \n",
       "2               2  \n",
       "3              21  \n",
       "4               3  "
      ]
     },
     "execution_count": 21,
     "metadata": {},
     "output_type": "execute_result"
    }
   ],
   "source": [
    "# Load in TJ admissions data for the Class of 2017\n",
    "\n",
    "MS_TJ_2017 = pd.read_csv('2017_MS_TJ_admissions.csv', header=0)\n",
    "\n",
    "# rename the first columns containing all the middle school names\n",
    "MS_TJ_2017 = MS_TJ_2017.rename(columns={'Unnamed: 0': \"School\"}) \n",
    "MS_TJ_2017.head()"
   ]
  },
  {
   "cell_type": "code",
   "execution_count": 22,
   "metadata": {},
   "outputs": [
    {
     "data": {
      "text/html": [
       "<div>\n",
       "<style scoped>\n",
       "    .dataframe tbody tr th:only-of-type {\n",
       "        vertical-align: middle;\n",
       "    }\n",
       "\n",
       "    .dataframe tbody tr th {\n",
       "        vertical-align: top;\n",
       "    }\n",
       "\n",
       "    .dataframe thead th {\n",
       "        text-align: right;\n",
       "    }\n",
       "</style>\n",
       "<table border=\"1\" class=\"dataframe\">\n",
       "  <thead>\n",
       "    <tr style=\"text-align: right;\">\n",
       "      <th></th>\n",
       "      <th>School</th>\n",
       "      <th>Total Admitted</th>\n",
       "    </tr>\n",
       "  </thead>\n",
       "  <tbody>\n",
       "    <tr>\n",
       "      <th>0</th>\n",
       "      <td>Carson</td>\n",
       "      <td>64</td>\n",
       "    </tr>\n",
       "    <tr>\n",
       "      <th>1</th>\n",
       "      <td>Cooper</td>\n",
       "      <td>5</td>\n",
       "    </tr>\n",
       "    <tr>\n",
       "      <th>2</th>\n",
       "      <td>Franklin</td>\n",
       "      <td>2</td>\n",
       "    </tr>\n",
       "    <tr>\n",
       "      <th>3</th>\n",
       "      <td>Frost</td>\n",
       "      <td>21</td>\n",
       "    </tr>\n",
       "    <tr>\n",
       "      <th>4</th>\n",
       "      <td>Glasgow</td>\n",
       "      <td>3</td>\n",
       "    </tr>\n",
       "  </tbody>\n",
       "</table>\n",
       "</div>"
      ],
      "text/plain": [
       "     School  Total Admitted\n",
       "0    Carson              64\n",
       "1    Cooper               5\n",
       "2  Franklin               2\n",
       "3     Frost              21\n",
       "4   Glasgow               3"
      ]
     },
     "execution_count": 22,
     "metadata": {},
     "output_type": "execute_result"
    }
   ],
   "source": [
    "# create a new dataframe that only contains the school names and the total number of admitted students\n",
    "col = ['School', 'Total Admitted']\n",
    "MS_TJ_2017_admitted = MS_TJ_2017[col]\n",
    "MS_TJ_2017_admitted.head()"
   ]
  },
  {
   "cell_type": "code",
   "execution_count": 23,
   "metadata": {},
   "outputs": [
    {
     "data": {
      "text/html": [
       "<div>\n",
       "<style scoped>\n",
       "    .dataframe tbody tr th:only-of-type {\n",
       "        vertical-align: middle;\n",
       "    }\n",
       "\n",
       "    .dataframe tbody tr th {\n",
       "        vertical-align: top;\n",
       "    }\n",
       "\n",
       "    .dataframe thead th {\n",
       "        text-align: right;\n",
       "    }\n",
       "</style>\n",
       "<table border=\"1\" class=\"dataframe\">\n",
       "  <thead>\n",
       "    <tr style=\"text-align: right;\">\n",
       "      <th></th>\n",
       "      <th>School</th>\n",
       "      <th>Total Admitted</th>\n",
       "    </tr>\n",
       "  </thead>\n",
       "  <tbody>\n",
       "    <tr>\n",
       "      <th>0</th>\n",
       "      <td>Carson</td>\n",
       "      <td>64</td>\n",
       "    </tr>\n",
       "    <tr>\n",
       "      <th>1</th>\n",
       "      <td>Rocky Run</td>\n",
       "      <td>55</td>\n",
       "    </tr>\n",
       "    <tr>\n",
       "      <th>2</th>\n",
       "      <td>Longfellow</td>\n",
       "      <td>55</td>\n",
       "    </tr>\n",
       "    <tr>\n",
       "      <th>3</th>\n",
       "      <td>Kilmer</td>\n",
       "      <td>38</td>\n",
       "    </tr>\n",
       "    <tr>\n",
       "      <th>4</th>\n",
       "      <td>Lake Braddock</td>\n",
       "      <td>21</td>\n",
       "    </tr>\n",
       "  </tbody>\n",
       "</table>\n",
       "</div>"
      ],
      "text/plain": [
       "          School  Total Admitted\n",
       "0         Carson              64\n",
       "1      Rocky Run              55\n",
       "2     Longfellow              55\n",
       "3         Kilmer              38\n",
       "4  Lake Braddock              21"
      ]
     },
     "execution_count": 23,
     "metadata": {},
     "output_type": "execute_result"
    }
   ],
   "source": [
    "# Sort this list from most acceptances to least:\n",
    "MS_TJ_2017_admitted_ordered = MS_TJ_2017_admitted.sort_values(by=['Total Admitted'], ascending=False, ignore_index=True)\n",
    "MS_TJ_2017_admitted_ordered.head()"
   ]
  },
  {
   "cell_type": "markdown",
   "metadata": {},
   "source": [
    "###  Note:\n",
    "It might be interesting to see a graph showing the middle schools with the highest rates of acceptance to TJ alongside a grpah showing the richest towns in the county"
   ]
  },
  {
   "cell_type": "markdown",
   "metadata": {},
   "source": [
    "# Total Students Admitted to TJ by Middle School"
   ]
  },
  {
   "cell_type": "code",
   "execution_count": 29,
   "metadata": {},
   "outputs": [
    {
     "data": {
      "image/png": "[encoded data removed]",
      "text/plain": [
       "<Figure size 1200x800 with 1 Axes>"
      ]
     },
     "metadata": {},
     "output_type": "display_data"
    }
   ],
   "source": [
    "# Total Students Admitted to TJ by Middle School\n",
    "# https://benalexkeen.com/bar-charts-in-matplotlib/\n",
    "import matplotlib.pyplot as plt\n",
    "plt.style.use('ggplot')\n",
    "plt.figure(figsize=(12,8), dpi= 100, facecolor='w', edgecolor='k')\n",
    "\n",
    "x = MS_TJ_2017_admitted_ordered.loc[:,'School']\n",
    "y = MS_TJ_2017_admitted_ordered.loc[:,'Total Admitted']\n",
    "\n",
    "x_pos = [i for i, _ in enumerate(x)]\n",
    "\n",
    "plt.bar(x, y, color='green')\n",
    "plt.xlabel('Schools')\n",
    "plt.ylabel('Total Students Admitted to TJ')\n",
    "plt.title('Total Students Admitted to TJ by Middle School')\n",
    "plt.xticks(x_pos,x, rotation='vertical')\n",
    "\n",
    "plt.show()"
   ]
  },
  {
   "cell_type": "code",
   "execution_count": 31,
   "metadata": {},
   "outputs": [
    {
     "data": {
      "image/png": "[encoded data removed]",
      "text/plain": [
       "<Figure size 1200x800 with 1 Axes>"
      ]
     },
     "metadata": {},
     "output_type": "display_data"
    }
   ],
   "source": [
    "#alternatively\n",
    "plt.figure(figsize=(12,8), dpi= 100, facecolor='w', edgecolor='k')\n",
    "plt.bar(range(len(MS_TJ_2017_admitted_ordered)), list(MS_TJ_2017_admitted_ordered['Total Admitted']), align='center')\n",
    "plt.xticks(range(len(MS_TJ_2017_admitted_ordered)), list(MS_TJ_2017_admitted_ordered['School']), rotation='vertical')\n",
    "plt.title('# of TJ Admitted Students by Middle School in 2017')\n",
    "plt.show()"
   ]
  },
  {
   "cell_type": "markdown",
   "metadata": {},
   "source": [
    "# Median Family Income"
   ]
  },
  {
   "cell_type": "code",
   "execution_count": 35,
   "metadata": {},
   "outputs": [
    {
     "data": {
      "image/png": "[encoded data removed]",
      "text/plain": [
       "<Figure size 1200x800 with 1 Axes>"
      ]
     },
     "metadata": {},
     "output_type": "display_data"
    }
   ],
   "source": [
    "# Median Family Income\n",
    "# https://stackoverflow.com/questions/16010869/plot-a-bar-using-matplotlib-using-a-dictionary\n",
    "plt.figure(figsize=(12,8), dpi= 100, facecolor='w', edgecolor='k')\n",
    "plt.bar(range(len(median_family_income)), list(median_family_income.values()), align='center', color='orange')\n",
    "plt.xticks(range(len(median_family_income)), list(median_family_income.keys()), rotation='vertical')\n",
    "plt.title('Median Family Income of Fairfax County Families')\n",
    "plt.show()"
   ]
  },
  {
   "cell_type": "markdown",
   "metadata": {},
   "source": [
    "Right, now I need to group the Middle Schools by Town and then plot that against the family income data I have for each of those towns. Maybe the left-y could be the income that corresponds to a bar chart displaying both the Median and Mean (or per capita) income per town, then the right-y could be the number of students accepted from the MS that is represented by that town... this would require me making a new dataframe where I group by town and combine the admissions numbers of middle schools that are in the same town, then I would be able to add the line graph on top of the bar chart so that yo could visualize the income per town on top of the admissions rates for those towns."
   ]
  },
  {
   "cell_type": "code",
   "execution_count": 40,
   "metadata": {},
   "outputs": [
    {
     "data": {
      "image/png": "[encoded data removed]",
      "text/plain": [
       "<Figure size 1200x800 with 1 Axes>"
      ]
     },
     "metadata": {},
     "output_type": "display_data"
    }
   ],
   "source": [
    "# https://stackoverflow.com/questions/32474434/trying-to-plot-a-line-plot-on-a-bar-plot-using-matplotlib\n",
    "\n",
    "N = len(median_family_income)\n",
    "list(median_family_income.values())\n",
    "list(per_capita_income.values())\n",
    "\n",
    "ind = np.arange(N)\n",
    "width = 0.35\n",
    "\n",
    "plt.figure(figsize=(12,8), dpi= 100, facecolor='w', edgecolor='k')\n",
    "plt.bar(ind, list(median_family_income.values()), width, label = 'Median Family Income')\n",
    "plt.bar(ind+width, list(per_capita_income.values()), width, label = 'Per Capita Income (family)')\n",
    "\n",
    "plt.ylabel('$')\n",
    "plt.rcParams['figure.figsize']=[10,10]\n",
    "\n",
    "\n",
    "plt.xticks(ind+width/2, list(median_family_income.keys()), rotation='vertical')\n",
    "plt.legend(loc = 'best')\n",
    "plt.title('Bar Plot of Median and Per Capita Income for Families in Fairfax County Towns')\n",
    "plt.show()"
   ]
  },
  {
   "cell_type": "code",
   "execution_count": 50,
   "metadata": {},
   "outputs": [],
   "source": [
    "# uncomment this if you want to see a list of the middle schools and their corresponding towns \n",
    "#MS_TJ_2017"
   ]
  },
  {
   "cell_type": "code",
   "execution_count": 41,
   "metadata": {},
   "outputs": [],
   "source": [
    "# Now I need to combine the admissions data, grouping by town \n",
    "# https://pandas.pydata.org/pandas-docs/stable/user_guide/groupby.html\n",
    "    #Group by: split-apply-combine\n",
    "MS_TJ_2017\n",
    "MS_TJ_2017_admitted\n",
    "MS_TJ_2017_admitted_ordered\n",
    "\n",
    "#aggregate\n",
    "grouped_town = MS_TJ_2017.groupby('Town')\n",
    "grouped_town_and_school = MS_TJ_2017.groupby(['Town','School'])\n",
    "\n",
    "grouped_town.aggregate(np.sum) #this only looks at towns and sums the values...this is what i want to plot\n",
    "grouped_town_and_school.aggregate(np.sum) #this does not sum values and just couples the schools with their towns\n",
    "    #this will be helpful to just see in a chart, not that helpful for plotting\n",
    "\n",
    "admitted_by_town = grouped_town.aggregate(np.sum).sort_values(by=['Total Admitted'], ascending=False)['Total Admitted']\n",
    "\n",
    "grouped_towns = list(admitted_by_town.index)"
   ]
  },
  {
   "cell_type": "code",
   "execution_count": 42,
   "metadata": {},
   "outputs": [
    {
     "data": {
      "text/plain": [
       "{'Herndon': 87372,\n",
       " 'McLean': 133273,\n",
       " 'Chantilly': 176875,\n",
       " 'Tysons Corner': 138782,\n",
       " 'Fairfax': 195553,\n",
       " 'Burke': 118827,\n",
       " 'Reston': 104200,\n",
       " 'Merrifield': 139955,\n",
       " 'Rose Hill': 139955,\n",
       " 'Fort Hunt': 66512,\n",
       " 'Lincolnia': 229231,\n",
       " 'Clifton': 182443,\n",
       " 'Alexandria': 93099,\n",
       " 'West Springfield': 167879,\n",
       " 'Dunn Loring': 127808,\n",
       " 'Centreville': 123554,\n",
       " 'Lorton': 128125,\n",
       " 'Annandale': 144937,\n",
       " 'Springfield': 104200,\n",
       " 'Hybla Valley': 104922}"
      ]
     },
     "execution_count": 42,
     "metadata": {},
     "output_type": "execute_result"
    }
   ],
   "source": [
    "# Median Income\n",
    "median_dict_grouped_by_town = {key: median_family_income[key] for key in grouped_towns}\n",
    "median_dict_grouped_by_town"
   ]
  },
  {
   "cell_type": "code",
   "execution_count": 43,
   "metadata": {},
   "outputs": [
    {
     "data": {
      "text/plain": [
       "{'Herndon': 40961,\n",
       " 'McLean': 61815,\n",
       " 'Chantilly': 104645,\n",
       " 'Tysons Corner': 50311,\n",
       " 'Fairfax': 69236,\n",
       " 'Burke': 43630,\n",
       " 'Reston': 38816,\n",
       " 'Merrifield': 47669,\n",
       " 'Rose Hill': 47669,\n",
       " 'Fort Hunt': 28394,\n",
       " 'Lincolnia': 100181,\n",
       " 'Clifton': 63443,\n",
       " 'Alexandria': 36747,\n",
       " 'West Springfield': 66593,\n",
       " 'Dunn Loring': 46489,\n",
       " 'Centreville': 43856,\n",
       " 'Lorton': 53527,\n",
       " 'Annandale': 48996,\n",
       " 'Springfield': 38816,\n",
       " 'Hybla Valley': 38777}"
      ]
     },
     "execution_count": 43,
     "metadata": {},
     "output_type": "execute_result"
    }
   ],
   "source": [
    "# Per Capita Income\n",
    "per_capita_dict_grouped_by_town = {key: per_capita_income[key] for key in grouped_towns}\n",
    "per_capita_dict_grouped_by_town "
   ]
  },
  {
   "cell_type": "code",
   "execution_count": 44,
   "metadata": {},
   "outputs": [
    {
     "data": {
      "text/plain": [
       "<Figure size 720x720 with 0 Axes>"
      ]
     },
     "metadata": {},
     "output_type": "display_data"
    },
    {
     "data": {
      "image/png": "[encoded data removed]",
      "text/plain": [
       "<Figure size 1200x800 with 2 Axes>"
      ]
     },
     "metadata": {},
     "output_type": "display_data"
    }
   ],
   "source": [
    "# https://stackoverflow.com/questions/32474434/trying-to-plot-a-line-plot-on-a-bar-plot-using-matplotlib\n",
    "\n",
    "plt.figure()       \n",
    "plt.figure(figsize=(12,8), dpi= 100, facecolor='w', edgecolor='k')\n",
    "\n",
    "grouped_towns = list(admitted_by_town.index)\n",
    "N = len(grouped_towns)\n",
    "medians = list(median_dict_grouped_by_town.values())\n",
    "width = 0.35\n",
    "per_capitas = list(per_capita_dict_grouped_by_town .values())\n",
    "ind = np.arange(N)\n",
    "\n",
    "plt.ylim(0.0, 250000)\n",
    "\n",
    "plt.bar(ind, medians, width, color='r', label='Median Family Income')\n",
    "plt.bar(ind+width, per_capitas, width, color='y', label='Per Capita Income')\n",
    "plt.ylabel('Bar Plot of Median and Per Capita Income for Families in Fairfax County Towns')\n",
    "\n",
    "x = admitted_by_town.index\n",
    "y = admitted_by_town\n",
    "x_pos = [i for i, _ in enumerate(x)]\n",
    "\n",
    "plt.xticks(ind+width/2, x, rotation='vertical')\n",
    "plt.legend(loc = 'upper right')\n",
    "\n",
    "axes2 = plt.twinx()\n",
    "axes2.plot(x, y, color='k', label='Number of Admitted Students to TJ by Town')\n",
    "axes2.set_ylim(0.0, 70.0)\n",
    "axes2.set_ylabel('Line plot of Number of Admitted Students to TJ by Town')\n",
    "\n",
    "plt.legend(loc = 'upper left')\n",
    "plt.rcParams['figure.figsize']=[20,10]\n",
    "plt.show()"
   ]
  },
  {
   "cell_type": "markdown",
   "metadata": {},
   "source": [
    "# Middle School TJ Admissions Class of 2017 - 2021"
   ]
  },
  {
   "cell_type": "code",
   "execution_count": 45,
   "metadata": {},
   "outputs": [
    {
     "data": {
      "text/html": [
       "<div>\n",
       "<style scoped>\n",
       "    .dataframe tbody tr th:only-of-type {\n",
       "        vertical-align: middle;\n",
       "    }\n",
       "\n",
       "    .dataframe tbody tr th {\n",
       "        vertical-align: top;\n",
       "    }\n",
       "\n",
       "    .dataframe thead th {\n",
       "        text-align: right;\n",
       "    }\n",
       "</style>\n",
       "<table border=\"1\" class=\"dataframe\">\n",
       "  <thead>\n",
       "    <tr style=\"text-align: right;\">\n",
       "      <th></th>\n",
       "      <th>School</th>\n",
       "      <th>Total Admitted 2017</th>\n",
       "      <th>Total Admitted 2018</th>\n",
       "      <th>Total Admitted 2019</th>\n",
       "      <th>Total Admitted 2020</th>\n",
       "      <th>Total Admitted 2021</th>\n",
       "    </tr>\n",
       "  </thead>\n",
       "  <tbody>\n",
       "    <tr>\n",
       "      <th>0</th>\n",
       "      <td>Carson</td>\n",
       "      <td>64</td>\n",
       "      <td>83</td>\n",
       "      <td>88</td>\n",
       "      <td>98</td>\n",
       "      <td>82</td>\n",
       "    </tr>\n",
       "    <tr>\n",
       "      <th>1</th>\n",
       "      <td>Cooper</td>\n",
       "      <td>5</td>\n",
       "      <td>2</td>\n",
       "      <td>2</td>\n",
       "      <td>3</td>\n",
       "      <td>1</td>\n",
       "    </tr>\n",
       "    <tr>\n",
       "      <th>2</th>\n",
       "      <td>Franklin</td>\n",
       "      <td>2</td>\n",
       "      <td>3</td>\n",
       "      <td>3</td>\n",
       "      <td>1</td>\n",
       "      <td>2</td>\n",
       "    </tr>\n",
       "    <tr>\n",
       "      <th>3</th>\n",
       "      <td>Frost</td>\n",
       "      <td>21</td>\n",
       "      <td>23</td>\n",
       "      <td>21</td>\n",
       "      <td>22</td>\n",
       "      <td>20</td>\n",
       "    </tr>\n",
       "    <tr>\n",
       "      <th>4</th>\n",
       "      <td>Glasgow</td>\n",
       "      <td>3</td>\n",
       "      <td>2</td>\n",
       "      <td>5</td>\n",
       "      <td>5</td>\n",
       "      <td>1</td>\n",
       "    </tr>\n",
       "  </tbody>\n",
       "</table>\n",
       "</div>"
      ],
      "text/plain": [
       "     School  Total Admitted 2017  Total Admitted 2018  Total Admitted 2019  \\\n",
       "0    Carson                   64                   83                   88   \n",
       "1    Cooper                    5                    2                    2   \n",
       "2  Franklin                    2                    3                    3   \n",
       "3     Frost                   21                   23                   21   \n",
       "4   Glasgow                    3                    2                    5   \n",
       "\n",
       "   Total Admitted 2020  Total Admitted 2021  \n",
       "0                   98                   82  \n",
       "1                    3                    1  \n",
       "2                    1                    2  \n",
       "3                   22                   20  \n",
       "4                    5                    1  "
      ]
     },
     "execution_count": 45,
     "metadata": {},
     "output_type": "execute_result"
    }
   ],
   "source": [
    "# MJ TJ Admissions Class of 2017-2021\n",
    "MS_TJ_admissions = pd.read_csv('MS_TJ_admissions.csv', header=0)\n",
    "MS_TJ_admissions.head()\n",
    "MS_TJ_admissions = MS_TJ_admissions.rename(columns={'Unnamed: 0': \"School\"}) \n",
    "MS_TJ_admissions.head()"
   ]
  },
  {
   "cell_type": "code",
   "execution_count": 47,
   "metadata": {},
   "outputs": [
    {
     "data": {
      "application/vnd.plotly.v1+json": {
       "config": {
        "plotlyServerURL": "https://plot.ly"
       },
       "data": [
        {
         "hovertemplate": "variable=Carson<br>index=%{x}<br>value=%{y}<extra></extra>",
         "legendgroup": "Carson",
         "line": {
          "color": "#636efa",
          "dash": "solid"
         },
         "mode": "lines",
         "name": "Carson",
         "orientation": "v",
         "showlegend": true,
         "type": "scatter",
         "x": [
          "Total Admitted 2017",
          "Total Admitted 2018",
          "Total Admitted 2019",
          "Total Admitted 2020",
          "Total Admitted 2021"
         ],
         "xaxis": "x",
         "y": [
          64,
          83,
          88,
          98,
          82
         ],
         "yaxis": "y"
        },
        {
         "hovertemplate": "variable=Cooper<br>index=%{x}<br>value=%{y}<extra></extra>",
         "legendgroup": "Cooper",
         "line": {
          "color": "#EF553B",
          "dash": "solid"
         },
         "mode": "lines",
         "name": "Cooper",
         "orientation": "v",
         "showlegend": true,
         "type": "scatter",
         "x": [
          "Total Admitted 2017",
          "Total Admitted 2018",
          "Total Admitted 2019",
          "Total Admitted 2020",
          "Total Admitted 2021"
         ],
         "xaxis": "x",
         "y": [
          5,
          2,
          2,
          3,
          1
         ],
         "yaxis": "y"
        },
        {
         "hovertemplate": "variable=Franklin<br>index=%{x}<br>value=%{y}<extra></extra>",
         "legendgroup": "Franklin",
         "line": {
          "color": "#00cc96",
          "dash": "solid"
         },
         "mode": "lines",
         "name": "Franklin",
         "orientation": "v",
         "showlegend": true,
         "type": "scatter",
         "x": [
          "Total Admitted 2017",
          "Total Admitted 2018",
          "Total Admitted 2019",
          "Total Admitted 2020",
          "Total Admitted 2021"
         ],
         "xaxis": "x",
         "y": [
          2,
          3,
          3,
          1,
          2
         ],
         "yaxis": "y"
        },
        {
         "hovertemplate": "variable=Frost<br>index=%{x}<br>value=%{y}<extra></extra>",
         "legendgroup": "Frost",
         "line": {
          "color": "#ab63fa",
          "dash": "solid"
         },
         "mode": "lines",
         "name": "Frost",
         "orientation": "v",
         "showlegend": true,
         "type": "scatter",
         "x": [
          "Total Admitted 2017",
          "Total Admitted 2018",
          "Total Admitted 2019",
          "Total Admitted 2020",
          "Total Admitted 2021"
         ],
         "xaxis": "x",
         "y": [
          21,
          23,
          21,
          22,
          20
         ],
         "yaxis": "y"
        },
        {
         "hovertemplate": "variable=Glasgow<br>index=%{x}<br>value=%{y}<extra></extra>",
         "legendgroup": "Glasgow",
         "line": {
          "color": "#FFA15A",
          "dash": "solid"
         },
         "mode": "lines",
         "name": "Glasgow",
         "orientation": "v",
         "showlegend": true,
         "type": "scatter",
         "x": [
          "Total Admitted 2017",
          "Total Admitted 2018",
          "Total Admitted 2019",
          "Total Admitted 2020",
          "Total Admitted 2021"
         ],
         "xaxis": "x",
         "y": [
          3,
          2,
          5,
          5,
          1
         ],
         "yaxis": "y"
        },
        {
         "hovertemplate": "variable=Hayfield<br>index=%{x}<br>value=%{y}<extra></extra>",
         "legendgroup": "Hayfield",
         "line": {
          "color": "#19d3f3",
          "dash": "solid"
         },
         "mode": "lines",
         "name": "Hayfield",
         "orientation": "v",
         "showlegend": true,
         "type": "scatter",
         "x": [
          "Total Admitted 2017",
          "Total Admitted 2018",
          "Total Admitted 2019",
          "Total Admitted 2020",
          "Total Admitted 2021"
         ],
         "xaxis": "x",
         "y": [
          2,
          0,
          1,
          2,
          1
         ],
         "yaxis": "y"
        },
        {
         "hovertemplate": "variable=Herndon<br>index=%{x}<br>value=%{y}<extra></extra>",
         "legendgroup": "Herndon",
         "line": {
          "color": "#FF6692",
          "dash": "solid"
         },
         "mode": "lines",
         "name": "Herndon",
         "orientation": "v",
         "showlegend": true,
         "type": "scatter",
         "x": [
          "Total Admitted 2017",
          "Total Admitted 2018",
          "Total Admitted 2019",
          "Total Admitted 2020",
          "Total Admitted 2021"
         ],
         "xaxis": "x",
         "y": [
          1,
          2,
          0,
          1,
          0
         ],
         "yaxis": "y"
        },
        {
         "hovertemplate": "variable=Holmes<br>index=%{x}<br>value=%{y}<extra></extra>",
         "legendgroup": "Holmes",
         "line": {
          "color": "#B6E880",
          "dash": "solid"
         },
         "mode": "lines",
         "name": "Holmes",
         "orientation": "v",
         "showlegend": true,
         "type": "scatter",
         "x": [
          "Total Admitted 2017",
          "Total Admitted 2018",
          "Total Admitted 2019",
          "Total Admitted 2020",
          "Total Admitted 2021"
         ],
         "xaxis": "x",
         "y": [
          2,
          3,
          1,
          0,
          0
         ],
         "yaxis": "y"
        },
        {
         "hovertemplate": "variable=Hughes<br>index=%{x}<br>value=%{y}<extra></extra>",
         "legendgroup": "Hughes",
         "line": {
          "color": "#FF97FF",
          "dash": "solid"
         },
         "mode": "lines",
         "name": "Hughes",
         "orientation": "v",
         "showlegend": true,
         "type": "scatter",
         "x": [
          "Total Admitted 2017",
          "Total Admitted 2018",
          "Total Admitted 2019",
          "Total Admitted 2020",
          "Total Admitted 2021"
         ],
         "xaxis": "x",
         "y": [
          18,
          8,
          18,
          8,
          6
         ],
         "yaxis": "y"
        },
        {
         "hovertemplate": "variable=Irving<br>index=%{x}<br>value=%{y}<extra></extra>",
         "legendgroup": "Irving",
         "line": {
          "color": "#FECB52",
          "dash": "solid"
         },
         "mode": "lines",
         "name": "Irving",
         "orientation": "v",
         "showlegend": true,
         "type": "scatter",
         "x": [
          "Total Admitted 2017",
          "Total Admitted 2018",
          "Total Admitted 2019",
          "Total Admitted 2020",
          "Total Admitted 2021"
         ],
         "xaxis": "x",
         "y": [
          2,
          2,
          1,
          2,
          1
         ],
         "yaxis": "y"
        },
        {
         "hovertemplate": "variable=Jackson<br>index=%{x}<br>value=%{y}<extra></extra>",
         "legendgroup": "Jackson",
         "line": {
          "color": "#636efa",
          "dash": "solid"
         },
         "mode": "lines",
         "name": "Jackson",
         "orientation": "v",
         "showlegend": true,
         "type": "scatter",
         "x": [
          "Total Admitted 2017",
          "Total Admitted 2018",
          "Total Admitted 2019",
          "Total Admitted 2020",
          "Total Admitted 2021"
         ],
         "xaxis": "x",
         "y": [
          15,
          12,
          13,
          11,
          18
         ],
         "yaxis": "y"
        },
        {
         "hovertemplate": "variable=Key<br>index=%{x}<br>value=%{y}<extra></extra>",
         "legendgroup": "Key",
         "line": {
          "color": "#EF553B",
          "dash": "solid"
         },
         "mode": "lines",
         "name": "Key",
         "orientation": "v",
         "showlegend": true,
         "type": "scatter",
         "x": [
          "Total Admitted 2017",
          "Total Admitted 2018",
          "Total Admitted 2019",
          "Total Admitted 2020",
          "Total Admitted 2021"
         ],
         "xaxis": "x",
         "y": [
          0,
          1,
          2,
          2,
          0
         ],
         "yaxis": "y"
        },
        {
         "hovertemplate": "variable=Kilmer<br>index=%{x}<br>value=%{y}<extra></extra>",
         "legendgroup": "Kilmer",
         "line": {
          "color": "#00cc96",
          "dash": "solid"
         },
         "mode": "lines",
         "name": "Kilmer",
         "orientation": "v",
         "showlegend": true,
         "type": "scatter",
         "x": [
          "Total Admitted 2017",
          "Total Admitted 2018",
          "Total Admitted 2019",
          "Total Admitted 2020",
          "Total Admitted 2021"
         ],
         "xaxis": "x",
         "y": [
          38,
          32,
          38,
          25,
          35
         ],
         "yaxis": "y"
        },
        {
         "hovertemplate": "variable=Lake Braddock<br>index=%{x}<br>value=%{y}<extra></extra>",
         "legendgroup": "Lake Braddock",
         "line": {
          "color": "#ab63fa",
          "dash": "solid"
         },
         "mode": "lines",
         "name": "Lake Braddock",
         "orientation": "v",
         "showlegend": true,
         "type": "scatter",
         "x": [
          "Total Admitted 2017",
          "Total Admitted 2018",
          "Total Admitted 2019",
          "Total Admitted 2020",
          "Total Admitted 2021"
         ],
         "xaxis": "x",
         "y": [
          21,
          15,
          20,
          14,
          16
         ],
         "yaxis": "y"
        },
        {
         "hovertemplate": "variable=Lanier<br>index=%{x}<br>value=%{y}<extra></extra>",
         "legendgroup": "Lanier",
         "line": {
          "color": "#FFA15A",
          "dash": "solid"
         },
         "mode": "lines",
         "name": "Lanier",
         "orientation": "v",
         "showlegend": true,
         "type": "scatter",
         "x": [
          "Total Admitted 2017",
          "Total Admitted 2018",
          "Total Admitted 2019",
          "Total Admitted 2020",
          "Total Admitted 2021"
         ],
         "xaxis": "x",
         "y": [
          2,
          4,
          1,
          0,
          0
         ],
         "yaxis": "y"
        },
        {
         "hovertemplate": "variable=Liberty<br>index=%{x}<br>value=%{y}<extra></extra>",
         "legendgroup": "Liberty",
         "line": {
          "color": "#19d3f3",
          "dash": "solid"
         },
         "mode": "lines",
         "name": "Liberty",
         "orientation": "v",
         "showlegend": true,
         "type": "scatter",
         "x": [
          "Total Admitted 2017",
          "Total Admitted 2018",
          "Total Admitted 2019",
          "Total Admitted 2020",
          "Total Admitted 2021"
         ],
         "xaxis": "x",
         "y": [
          3,
          1,
          2,
          5,
          1
         ],
         "yaxis": "y"
        },
        {
         "hovertemplate": "variable=Longfellow<br>index=%{x}<br>value=%{y}<extra></extra>",
         "legendgroup": "Longfellow",
         "line": {
          "color": "#FF6692",
          "dash": "solid"
         },
         "mode": "lines",
         "name": "Longfellow",
         "orientation": "v",
         "showlegend": true,
         "type": "scatter",
         "x": [
          "Total Admitted 2017",
          "Total Admitted 2018",
          "Total Admitted 2019",
          "Total Admitted 2020",
          "Total Admitted 2021"
         ],
         "xaxis": "x",
         "y": [
          55,
          54,
          66,
          45,
          64
         ],
         "yaxis": "y"
        },
        {
         "hovertemplate": "variable=Poe<br>index=%{x}<br>value=%{y}<extra></extra>",
         "legendgroup": "Poe",
         "line": {
          "color": "#B6E880",
          "dash": "solid"
         },
         "mode": "lines",
         "name": "Poe",
         "orientation": "v",
         "showlegend": true,
         "type": "scatter",
         "x": [
          "Total Admitted 2017",
          "Total Admitted 2018",
          "Total Admitted 2019",
          "Total Admitted 2020",
          "Total Admitted 2021"
         ],
         "xaxis": "x",
         "y": [
          0,
          1,
          1,
          1,
          0
         ],
         "yaxis": "y"
        },
        {
         "hovertemplate": "variable=Robinson<br>index=%{x}<br>value=%{y}<extra></extra>",
         "legendgroup": "Robinson",
         "line": {
          "color": "#FF97FF",
          "dash": "solid"
         },
         "mode": "lines",
         "name": "Robinson",
         "orientation": "v",
         "showlegend": true,
         "type": "scatter",
         "x": [
          "Total Admitted 2017",
          "Total Admitted 2018",
          "Total Admitted 2019",
          "Total Admitted 2020",
          "Total Admitted 2021"
         ],
         "xaxis": "x",
         "y": [
          6,
          5,
          2,
          4,
          5
         ],
         "yaxis": "y"
        },
        {
         "hovertemplate": "variable=Rocky Run<br>index=%{x}<br>value=%{y}<extra></extra>",
         "legendgroup": "Rocky Run",
         "line": {
          "color": "#FECB52",
          "dash": "solid"
         },
         "mode": "lines",
         "name": "Rocky Run",
         "orientation": "v",
         "showlegend": true,
         "type": "scatter",
         "x": [
          "Total Admitted 2017",
          "Total Admitted 2018",
          "Total Admitted 2019",
          "Total Admitted 2020",
          "Total Admitted 2021"
         ],
         "xaxis": "x",
         "y": [
          55,
          56,
          45,
          37,
          39
         ],
         "yaxis": "y"
        },
        {
         "hovertemplate": "variable=Sandburg<br>index=%{x}<br>value=%{y}<extra></extra>",
         "legendgroup": "Sandburg",
         "line": {
          "color": "#636efa",
          "dash": "solid"
         },
         "mode": "lines",
         "name": "Sandburg",
         "orientation": "v",
         "showlegend": true,
         "type": "scatter",
         "x": [
          "Total Admitted 2017",
          "Total Admitted 2018",
          "Total Admitted 2019",
          "Total Admitted 2020",
          "Total Admitted 2021"
         ],
         "xaxis": "x",
         "y": [
          8,
          4,
          6,
          5,
          4
         ],
         "yaxis": "y"
        },
        {
         "hovertemplate": "variable=South County<br>index=%{x}<br>value=%{y}<extra></extra>",
         "legendgroup": "South County",
         "line": {
          "color": "#EF553B",
          "dash": "solid"
         },
         "mode": "lines",
         "name": "South County",
         "orientation": "v",
         "showlegend": true,
         "type": "scatter",
         "x": [
          "Total Admitted 2017",
          "Total Admitted 2018",
          "Total Admitted 2019",
          "Total Admitted 2020",
          "Total Admitted 2021"
         ],
         "xaxis": "x",
         "y": [
          0,
          5,
          3,
          6,
          6
         ],
         "yaxis": "y"
        },
        {
         "hovertemplate": "variable=Stone<br>index=%{x}<br>value=%{y}<extra></extra>",
         "legendgroup": "Stone",
         "line": {
          "color": "#00cc96",
          "dash": "solid"
         },
         "mode": "lines",
         "name": "Stone",
         "orientation": "v",
         "showlegend": true,
         "type": "scatter",
         "x": [
          "Total Admitted 2017",
          "Total Admitted 2018",
          "Total Admitted 2019",
          "Total Admitted 2020",
          "Total Admitted 2021"
         ],
         "xaxis": "x",
         "y": [
          1,
          4,
          0,
          1,
          0
         ],
         "yaxis": "y"
        },
        {
         "hovertemplate": "variable=Thoreau<br>index=%{x}<br>value=%{y}<extra></extra>",
         "legendgroup": "Thoreau",
         "line": {
          "color": "#ab63fa",
          "dash": "solid"
         },
         "mode": "lines",
         "name": "Thoreau",
         "orientation": "v",
         "showlegend": true,
         "type": "scatter",
         "x": [
          "Total Admitted 2017",
          "Total Admitted 2018",
          "Total Admitted 2019",
          "Total Admitted 2020",
          "Total Admitted 2021"
         ],
         "xaxis": "x",
         "y": [
          2,
          2,
          3,
          4,
          11
         ],
         "yaxis": "y"
        },
        {
         "hovertemplate": "variable=Twain<br>index=%{x}<br>value=%{y}<extra></extra>",
         "legendgroup": "Twain",
         "line": {
          "color": "#FFA15A",
          "dash": "solid"
         },
         "mode": "lines",
         "name": "Twain",
         "orientation": "v",
         "showlegend": true,
         "type": "scatter",
         "x": [
          "Total Admitted 2017",
          "Total Admitted 2018",
          "Total Admitted 2019",
          "Total Admitted 2020",
          "Total Admitted 2021"
         ],
         "xaxis": "x",
         "y": [
          12,
          11,
          12,
          11,
          10
         ],
         "yaxis": "y"
        },
        {
         "hovertemplate": "variable=Whitman<br>index=%{x}<br>value=%{y}<extra></extra>",
         "legendgroup": "Whitman",
         "line": {
          "color": "#19d3f3",
          "dash": "solid"
         },
         "mode": "lines",
         "name": "Whitman",
         "orientation": "v",
         "showlegend": true,
         "type": "scatter",
         "x": [
          "Total Admitted 2017",
          "Total Admitted 2018",
          "Total Admitted 2019",
          "Total Admitted 2020",
          "Total Admitted 2021"
         ],
         "xaxis": "x",
         "y": [
          0,
          1,
          0,
          0,
          0
         ],
         "yaxis": "y"
        }
       ],
       "layout": {
        "legend": {
         "title": {
          "text": "variable"
         },
         "tracegroupgap": 0
        },
        "template": {
         "data": {
          "bar": [
           {
            "error_x": {
             "color": "#2a3f5f"
            },
            "error_y": {
             "color": "#2a3f5f"
            },
            "marker": {
             "line": {
              "color": "#E5ECF6",
              "width": 0.5
             }
            },
            "type": "bar"
           }
          ],
          "barpolar": [
           {
            "marker": {
             "line": {
              "color": "#E5ECF6",
              "width": 0.5
             }
            },
            "type": "barpolar"
           }
          ],
          "carpet": [
           {
            "aaxis": {
             "endlinecolor": "#2a3f5f",
             "gridcolor": "white",
             "linecolor": "white",
             "minorgridcolor": "white",
             "startlinecolor": "#2a3f5f"
            },
            "baxis": {
             "endlinecolor": "#2a3f5f",
             "gridcolor": "white",
             "linecolor": "white",
             "minorgridcolor": "white",
             "startlinecolor": "#2a3f5f"
            },
            "type": "carpet"
           }
          ],
          "choropleth": [
           {
            "colorbar": {
             "outlinewidth": 0,
             "ticks": ""
            },
            "type": "choropleth"
           }
          ],
          "contour": [
           {
            "colorbar": {
             "outlinewidth": 0,
             "ticks": ""
            },
            "colorscale": [
             [
              0,
              "#0d0887"
             ],
             [
              0.1111111111111111,
              "#46039f"
             ],
             [
              0.2222222222222222,
              "#7201a8"
             ],
             [
              0.3333333333333333,
              "#9c179e"
             ],
             [
              0.4444444444444444,
              "#bd3786"
             ],
             [
              0.5555555555555556,
              "#d8576b"
             ],
             [
              0.6666666666666666,
              "#ed7953"
             ],
             [
              0.7777777777777778,
              "#fb9f3a"
             ],
             [
              0.8888888888888888,
              "#fdca26"
             ],
             [
              1,
              "#f0f921"
             ]
            ],
            "type": "contour"
           }
          ],
          "contourcarpet": [
           {
            "colorbar": {
             "outlinewidth": 0,
             "ticks": ""
            },
            "type": "contourcarpet"
           }
          ],
          "heatmap": [
           {
            "colorbar": {
             "outlinewidth": 0,
             "ticks": ""
            },
            "colorscale": [
             [
              0,
              "#0d0887"
             ],
             [
              0.1111111111111111,
              "#46039f"
             ],
             [
              0.2222222222222222,
              "#7201a8"
             ],
             [
              0.3333333333333333,
              "#9c179e"
             ],
             [
              0.4444444444444444,
              "#bd3786"
             ],
             [
              0.5555555555555556,
              "#d8576b"
             ],
             [
              0.6666666666666666,
              "#ed7953"
             ],
             [
              0.7777777777777778,
              "#fb9f3a"
             ],
             [
              0.8888888888888888,
              "#fdca26"
             ],
             [
              1,
              "#f0f921"
             ]
            ],
            "type": "heatmap"
           }
          ],
          "heatmapgl": [
           {
            "colorbar": {
             "outlinewidth": 0,
             "ticks": ""
            },
            "colorscale": [
             [
              0,
              "#0d0887"
             ],
             [
              0.1111111111111111,
              "#46039f"
             ],
             [
              0.2222222222222222,
              "#7201a8"
             ],
             [
              0.3333333333333333,
              "#9c179e"
             ],
             [
              0.4444444444444444,
              "#bd3786"
             ],
             [
              0.5555555555555556,
              "#d8576b"
             ],
             [
              0.6666666666666666,
              "#ed7953"
             ],
             [
              0.7777777777777778,
              "#fb9f3a"
             ],
             [
              0.8888888888888888,
              "#fdca26"
             ],
             [
              1,
              "#f0f921"
             ]
            ],
            "type": "heatmapgl"
           }
          ],
          "histogram": [
           {
            "marker": {
             "colorbar": {
              "outlinewidth": 0,
              "ticks": ""
             }
            },
            "type": "histogram"
           }
          ],
          "histogram2d": [
           {
            "colorbar": {
             "outlinewidth": 0,
             "ticks": ""
            },
            "colorscale": [
             [
              0,
              "#0d0887"
             ],
             [
              0.1111111111111111,
              "#46039f"
             ],
             [
              0.2222222222222222,
              "#7201a8"
             ],
             [
              0.3333333333333333,
              "#9c179e"
             ],
             [
              0.4444444444444444,
              "#bd3786"
             ],
             [
              0.5555555555555556,
              "#d8576b"
             ],
             [
              0.6666666666666666,
              "#ed7953"
             ],
             [
              0.7777777777777778,
              "#fb9f3a"
             ],
             [
              0.8888888888888888,
              "#fdca26"
             ],
             [
              1,
              "#f0f921"
             ]
            ],
            "type": "histogram2d"
           }
          ],
          "histogram2dcontour": [
           {
            "colorbar": {
             "outlinewidth": 0,
             "ticks": ""
            },
            "colorscale": [
             [
              0,
              "#0d0887"
             ],
             [
              0.1111111111111111,
              "#46039f"
             ],
             [
              0.2222222222222222,
              "#7201a8"
             ],
             [
              0.3333333333333333,
              "#9c179e"
             ],
             [
              0.4444444444444444,
              "#bd3786"
             ],
             [
              0.5555555555555556,
              "#d8576b"
             ],
             [
              0.6666666666666666,
              "#ed7953"
             ],
             [
              0.7777777777777778,
              "#fb9f3a"
             ],
             [
              0.8888888888888888,
              "#fdca26"
             ],
             [
              1,
              "#f0f921"
             ]
            ],
            "type": "histogram2dcontour"
           }
          ],
          "mesh3d": [
           {
            "colorbar": {
             "outlinewidth": 0,
             "ticks": ""
            },
            "type": "mesh3d"
           }
          ],
          "parcoords": [
           {
            "line": {
             "colorbar": {
              "outlinewidth": 0,
              "ticks": ""
             }
            },
            "type": "parcoords"
           }
          ],
          "pie": [
           {
            "automargin": true,
            "type": "pie"
           }
          ],
          "scatter": [
           {
            "marker": {
             "colorbar": {
              "outlinewidth": 0,
              "ticks": ""
             }
            },
            "type": "scatter"
           }
          ],
          "scatter3d": [
           {
            "line": {
             "colorbar": {
              "outlinewidth": 0,
              "ticks": ""
             }
            },
            "marker": {
             "colorbar": {
              "outlinewidth": 0,
              "ticks": ""
             }
            },
            "type": "scatter3d"
           }
          ],
          "scattercarpet": [
           {
            "marker": {
             "colorbar": {
              "outlinewidth": 0,
              "ticks": ""
             }
            },
            "type": "scattercarpet"
           }
          ],
          "scattergeo": [
           {
            "marker": {
             "colorbar": {
              "outlinewidth": 0,
              "ticks": ""
             }
            },
            "type": "scattergeo"
           }
          ],
          "scattergl": [
           {
            "marker": {
             "colorbar": {
              "outlinewidth": 0,
              "ticks": ""
             }
            },
            "type": "scattergl"
           }
          ],
          "scattermapbox": [
           {
            "marker": {
             "colorbar": {
              "outlinewidth": 0,
              "ticks": ""
             }
            },
            "type": "scattermapbox"
           }
          ],
          "scatterpolar": [
           {
            "marker": {
             "colorbar": {
              "outlinewidth": 0,
              "ticks": ""
             }
            },
            "type": "scatterpolar"
           }
          ],
          "scatterpolargl": [
           {
            "marker": {
             "colorbar": {
              "outlinewidth": 0,
              "ticks": ""
             }
            },
            "type": "scatterpolargl"
           }
          ],
          "scatterternary": [
           {
            "marker": {
             "colorbar": {
              "outlinewidth": 0,
              "ticks": ""
             }
            },
            "type": "scatterternary"
           }
          ],
          "surface": [
           {
            "colorbar": {
             "outlinewidth": 0,
             "ticks": ""
            },
            "colorscale": [
             [
              0,
              "#0d0887"
             ],
             [
              0.1111111111111111,
              "#46039f"
             ],
             [
              0.2222222222222222,
              "#7201a8"
             ],
             [
              0.3333333333333333,
              "#9c179e"
             ],
             [
              0.4444444444444444,
              "#bd3786"
             ],
             [
              0.5555555555555556,
              "#d8576b"
             ],
             [
              0.6666666666666666,
              "#ed7953"
             ],
             [
              0.7777777777777778,
              "#fb9f3a"
             ],
             [
              0.8888888888888888,
              "#fdca26"
             ],
             [
              1,
              "#f0f921"
             ]
            ],
            "type": "surface"
           }
          ],
          "table": [
           {
            "cells": {
             "fill": {
              "color": "#EBF0F8"
             },
             "line": {
              "color": "white"
             }
            },
            "header": {
             "fill": {
              "color": "#C8D4E3"
             },
             "line": {
              "color": "white"
             }
            },
            "type": "table"
           }
          ]
         },
         "layout": {
          "annotationdefaults": {
           "arrowcolor": "#2a3f5f",
           "arrowhead": 0,
           "arrowwidth": 1
          },
          "coloraxis": {
           "colorbar": {
            "outlinewidth": 0,
            "ticks": ""
           }
          },
          "colorscale": {
           "diverging": [
            [
             0,
             "#8e0152"
            ],
            [
             0.1,
             "#c51b7d"
            ],
            [
             0.2,
             "#de77ae"
            ],
            [
             0.3,
             "#f1b6da"
            ],
            [
             0.4,
             "#fde0ef"
            ],
            [
             0.5,
             "#f7f7f7"
            ],
            [
             0.6,
             "#e6f5d0"
            ],
            [
             0.7,
             "#b8e186"
            ],
            [
             0.8,
             "#7fbc41"
            ],
            [
             0.9,
             "#4d9221"
            ],
            [
             1,
             "#276419"
            ]
           ],
           "sequential": [
            [
             0,
             "#0d0887"
            ],
            [
             0.1111111111111111,
             "#46039f"
            ],
            [
             0.2222222222222222,
             "#7201a8"
            ],
            [
             0.3333333333333333,
             "#9c179e"
            ],
            [
             0.4444444444444444,
             "#bd3786"
            ],
            [
             0.5555555555555556,
             "#d8576b"
            ],
            [
             0.6666666666666666,
             "#ed7953"
            ],
            [
             0.7777777777777778,
             "#fb9f3a"
            ],
            [
             0.8888888888888888,
             "#fdca26"
            ],
            [
             1,
             "#f0f921"
            ]
           ],
           "sequentialminus": [
            [
             0,
             "#0d0887"
            ],
            [
             0.1111111111111111,
             "#46039f"
            ],
            [
             0.2222222222222222,
             "#7201a8"
            ],
            [
             0.3333333333333333,
             "#9c179e"
            ],
            [
             0.4444444444444444,
             "#bd3786"
            ],
            [
             0.5555555555555556,
             "#d8576b"
            ],
            [
             0.6666666666666666,
             "#ed7953"
            ],
            [
             0.7777777777777778,
             "#fb9f3a"
            ],
            [
             0.8888888888888888,
             "#fdca26"
            ],
            [
             1,
             "#f0f921"
            ]
           ]
          },
          "colorway": [
           "#636efa",
           "#EF553B",
           "#00cc96",
           "#ab63fa",
           "#FFA15A",
           "#19d3f3",
           "#FF6692",
           "#B6E880",
           "#FF97FF",
           "#FECB52"
          ],
          "font": {
           "color": "#2a3f5f"
          },
          "geo": {
           "bgcolor": "white",
           "lakecolor": "white",
           "landcolor": "#E5ECF6",
           "showlakes": true,
           "showland": true,
           "subunitcolor": "white"
          },
          "hoverlabel": {
           "align": "left"
          },
          "hovermode": "closest",
          "mapbox": {
           "style": "light"
          },
          "paper_bgcolor": "white",
          "plot_bgcolor": "#E5ECF6",
          "polar": {
           "angularaxis": {
            "gridcolor": "white",
            "linecolor": "white",
            "ticks": ""
           },
           "bgcolor": "#E5ECF6",
           "radialaxis": {
            "gridcolor": "white",
            "linecolor": "white",
            "ticks": ""
           }
          },
          "scene": {
           "xaxis": {
            "backgroundcolor": "#E5ECF6",
            "gridcolor": "white",
            "gridwidth": 2,
            "linecolor": "white",
            "showbackground": true,
            "ticks": "",
            "zerolinecolor": "white"
           },
           "yaxis": {
            "backgroundcolor": "#E5ECF6",
            "gridcolor": "white",
            "gridwidth": 2,
            "linecolor": "white",
            "showbackground": true,
            "ticks": "",
            "zerolinecolor": "white"
           },
           "zaxis": {
            "backgroundcolor": "#E5ECF6",
            "gridcolor": "white",
            "gridwidth": 2,
            "linecolor": "white",
            "showbackground": true,
            "ticks": "",
            "zerolinecolor": "white"
           }
          },
          "shapedefaults": {
           "line": {
            "color": "#2a3f5f"
           }
          },
          "ternary": {
           "aaxis": {
            "gridcolor": "white",
            "linecolor": "white",
            "ticks": ""
           },
           "baxis": {
            "gridcolor": "white",
            "linecolor": "white",
            "ticks": ""
           },
           "bgcolor": "#E5ECF6",
           "caxis": {
            "gridcolor": "white",
            "linecolor": "white",
            "ticks": ""
           }
          },
          "title": {
           "x": 0.05
          },
          "xaxis": {
           "automargin": true,
           "gridcolor": "white",
           "linecolor": "white",
           "ticks": "",
           "title": {
            "standoff": 15
           },
           "zerolinecolor": "white",
           "zerolinewidth": 2
          },
          "yaxis": {
           "automargin": true,
           "gridcolor": "white",
           "linecolor": "white",
           "ticks": "",
           "title": {
            "standoff": 15
           },
           "zerolinecolor": "white",
           "zerolinewidth": 2
          }
         }
        },
        "title": {
         "text": "TJ Admissions by Middle School for Class of 2017-2021"
        },
        "xaxis": {
         "anchor": "y",
         "domain": [
          0,
          1
         ],
         "title": {
          "text": "index"
         }
        },
        "yaxis": {
         "anchor": "x",
         "domain": [
          0,
          1
         ],
         "title": {
          "text": "value"
         }
        }
       }
      },
      "text/html": [
       "<div>                            <div id=\"b7e7b24e-4ee2-4df7-8def-bc016ab3eaf9\" class=\"plotly-graph-div\" style=\"height:525px; width:100%;\"></div>            <script type=\"text/javascript\">                require([\"plotly\"], function(Plotly) {                    window.PLOTLYENV=window.PLOTLYENV || {};                                    if (document.getElementById(\"b7e7b24e-4ee2-4df7-8def-bc016ab3eaf9\")) {                    Plotly.newPlot(                        \"b7e7b24e-4ee2-4df7-8def-bc016ab3eaf9\",                        [{\"hovertemplate\": \"variable=Carson<br>index=%{x}<br>value=%{y}<extra></extra>\", \"legendgroup\": \"Carson\", \"line\": {\"color\": \"#636efa\", \"dash\": \"solid\"}, \"mode\": \"lines\", \"name\": \"Carson\", \"orientation\": \"v\", \"showlegend\": true, \"type\": \"scatter\", \"x\": [\"Total Admitted 2017\", \"Total Admitted 2018\", \"Total Admitted 2019\", \"Total Admitted 2020\", \"Total Admitted 2021\"], \"xaxis\": \"x\", \"y\": [64, 83, 88, 98, 82], \"yaxis\": \"y\"}, {\"hovertemplate\": \"variable=Cooper<br>index=%{x}<br>value=%{y}<extra></extra>\", \"legendgroup\": \"Cooper\", \"line\": {\"color\": \"#EF553B\", \"dash\": \"solid\"}, \"mode\": \"lines\", \"name\": \"Cooper\", \"orientation\": \"v\", \"showlegend\": true, \"type\": \"scatter\", \"x\": [\"Total Admitted 2017\", \"Total Admitted 2018\", \"Total Admitted 2019\", \"Total Admitted 2020\", \"Total Admitted 2021\"], \"xaxis\": \"x\", \"y\": [5, 2, 2, 3, 1], \"yaxis\": \"y\"}, {\"hovertemplate\": \"variable=Franklin<br>index=%{x}<br>value=%{y}<extra></extra>\", \"legendgroup\": \"Franklin\", \"line\": {\"color\": \"#00cc96\", \"dash\": \"solid\"}, \"mode\": \"lines\", \"name\": \"Franklin\", \"orientation\": \"v\", \"showlegend\": true, \"type\": \"scatter\", \"x\": [\"Total Admitted 2017\", \"Total Admitted 2018\", \"Total Admitted 2019\", \"Total Admitted 2020\", \"Total Admitted 2021\"], \"xaxis\": \"x\", \"y\": [2, 3, 3, 1, 2], \"yaxis\": \"y\"}, {\"hovertemplate\": \"variable=Frost<br>index=%{x}<br>value=%{y}<extra></extra>\", \"legendgroup\": \"Frost\", \"line\": {\"color\": \"#ab63fa\", \"dash\": \"solid\"}, \"mode\": \"lines\", \"name\": \"Frost\", \"orientation\": \"v\", \"showlegend\": true, \"type\": \"scatter\", \"x\": [\"Total Admitted 2017\", \"Total Admitted 2018\", \"Total Admitted 2019\", \"Total Admitted 2020\", \"Total Admitted 2021\"], \"xaxis\": \"x\", \"y\": [21, 23, 21, 22, 20], \"yaxis\": \"y\"}, {\"hovertemplate\": \"variable=Glasgow<br>index=%{x}<br>value=%{y}<extra></extra>\", \"legendgroup\": \"Glasgow\", \"line\": {\"color\": \"#FFA15A\", \"dash\": \"solid\"}, \"mode\": \"lines\", \"name\": \"Glasgow\", \"orientation\": \"v\", \"showlegend\": true, \"type\": \"scatter\", \"x\": [\"Total Admitted 2017\", \"Total Admitted 2018\", \"Total Admitted 2019\", \"Total Admitted 2020\", \"Total Admitted 2021\"], \"xaxis\": \"x\", \"y\": [3, 2, 5, 5, 1], \"yaxis\": \"y\"}, {\"hovertemplate\": \"variable=Hayfield<br>index=%{x}<br>value=%{y}<extra></extra>\", \"legendgroup\": \"Hayfield\", \"line\": {\"color\": \"#19d3f3\", \"dash\": \"solid\"}, \"mode\": \"lines\", \"name\": \"Hayfield\", \"orientation\": \"v\", \"showlegend\": true, \"type\": \"scatter\", \"x\": [\"Total Admitted 2017\", \"Total Admitted 2018\", \"Total Admitted 2019\", \"Total Admitted 2020\", \"Total Admitted 2021\"], \"xaxis\": \"x\", \"y\": [2, 0, 1, 2, 1], \"yaxis\": \"y\"}, {\"hovertemplate\": \"variable=Herndon<br>index=%{x}<br>value=%{y}<extra></extra>\", \"legendgroup\": \"Herndon\", \"line\": {\"color\": \"#FF6692\", \"dash\": \"solid\"}, \"mode\": \"lines\", \"name\": \"Herndon\", \"orientation\": \"v\", \"showlegend\": true, \"type\": \"scatter\", \"x\": [\"Total Admitted 2017\", \"Total Admitted 2018\", \"Total Admitted 2019\", \"Total Admitted 2020\", \"Total Admitted 2021\"], \"xaxis\": \"x\", \"y\": [1, 2, 0, 1, 0], \"yaxis\": \"y\"}, {\"hovertemplate\": \"variable=Holmes<br>index=%{x}<br>value=%{y}<extra></extra>\", \"legendgroup\": \"Holmes\", \"line\": {\"color\": \"#B6E880\", \"dash\": \"solid\"}, \"mode\": \"lines\", \"name\": \"Holmes\", \"orientation\": \"v\", \"showlegend\": true, \"type\": \"scatter\", \"x\": [\"Total Admitted 2017\", \"Total Admitted 2018\", \"Total Admitted 2019\", \"Total Admitted 2020\", \"Total Admitted 2021\"], \"xaxis\": \"x\", \"y\": [2, 3, 1, 0, 0], \"yaxis\": \"y\"}, {\"hovertemplate\": \"variable=Hughes<br>index=%{x}<br>value=%{y}<extra></extra>\", \"legendgroup\": \"Hughes\", \"line\": {\"color\": \"#FF97FF\", \"dash\": \"solid\"}, \"mode\": \"lines\", \"name\": \"Hughes\", \"orientation\": \"v\", \"showlegend\": true, \"type\": \"scatter\", \"x\": [\"Total Admitted 2017\", \"Total Admitted 2018\", \"Total Admitted 2019\", \"Total Admitted 2020\", \"Total Admitted 2021\"], \"xaxis\": \"x\", \"y\": [18, 8, 18, 8, 6], \"yaxis\": \"y\"}, {\"hovertemplate\": \"variable=Irving<br>index=%{x}<br>value=%{y}<extra></extra>\", \"legendgroup\": \"Irving\", \"line\": {\"color\": \"#FECB52\", \"dash\": \"solid\"}, \"mode\": \"lines\", \"name\": \"Irving\", \"orientation\": \"v\", \"showlegend\": true, \"type\": \"scatter\", \"x\": [\"Total Admitted 2017\", \"Total Admitted 2018\", \"Total Admitted 2019\", \"Total Admitted 2020\", \"Total Admitted 2021\"], \"xaxis\": \"x\", \"y\": [2, 2, 1, 2, 1], \"yaxis\": \"y\"}, {\"hovertemplate\": \"variable=Jackson<br>index=%{x}<br>value=%{y}<extra></extra>\", \"legendgroup\": \"Jackson\", \"line\": {\"color\": \"#636efa\", \"dash\": \"solid\"}, \"mode\": \"lines\", \"name\": \"Jackson\", \"orientation\": \"v\", \"showlegend\": true, \"type\": \"scatter\", \"x\": [\"Total Admitted 2017\", \"Total Admitted 2018\", \"Total Admitted 2019\", \"Total Admitted 2020\", \"Total Admitted 2021\"], \"xaxis\": \"x\", \"y\": [15, 12, 13, 11, 18], \"yaxis\": \"y\"}, {\"hovertemplate\": \"variable=Key<br>index=%{x}<br>value=%{y}<extra></extra>\", \"legendgroup\": \"Key\", \"line\": {\"color\": \"#EF553B\", \"dash\": \"solid\"}, \"mode\": \"lines\", \"name\": \"Key\", \"orientation\": \"v\", \"showlegend\": true, \"type\": \"scatter\", \"x\": [\"Total Admitted 2017\", \"Total Admitted 2018\", \"Total Admitted 2019\", \"Total Admitted 2020\", \"Total Admitted 2021\"], \"xaxis\": \"x\", \"y\": [0, 1, 2, 2, 0], \"yaxis\": \"y\"}, {\"hovertemplate\": \"variable=Kilmer<br>index=%{x}<br>value=%{y}<extra></extra>\", \"legendgroup\": \"Kilmer\", \"line\": {\"color\": \"#00cc96\", \"dash\": \"solid\"}, \"mode\": \"lines\", \"name\": \"Kilmer\", \"orientation\": \"v\", \"showlegend\": true, \"type\": \"scatter\", \"x\": [\"Total Admitted 2017\", \"Total Admitted 2018\", \"Total Admitted 2019\", \"Total Admitted 2020\", \"Total Admitted 2021\"], \"xaxis\": \"x\", \"y\": [38, 32, 38, 25, 35], \"yaxis\": \"y\"}, {\"hovertemplate\": \"variable=Lake Braddock<br>index=%{x}<br>value=%{y}<extra></extra>\", \"legendgroup\": \"Lake Braddock\", \"line\": {\"color\": \"#ab63fa\", \"dash\": \"solid\"}, \"mode\": \"lines\", \"name\": \"Lake Braddock\", \"orientation\": \"v\", \"showlegend\": true, \"type\": \"scatter\", \"x\": [\"Total Admitted 2017\", \"Total Admitted 2018\", \"Total Admitted 2019\", \"Total Admitted 2020\", \"Total Admitted 2021\"], \"xaxis\": \"x\", \"y\": [21, 15, 20, 14, 16], \"yaxis\": \"y\"}, {\"hovertemplate\": \"variable=Lanier<br>index=%{x}<br>value=%{y}<extra></extra>\", \"legendgroup\": \"Lanier\", \"line\": {\"color\": \"#FFA15A\", \"dash\": \"solid\"}, \"mode\": \"lines\", \"name\": \"Lanier\", \"orientation\": \"v\", \"showlegend\": true, \"type\": \"scatter\", \"x\": [\"Total Admitted 2017\", \"Total Admitted 2018\", \"Total Admitted 2019\", \"Total Admitted 2020\", \"Total Admitted 2021\"], \"xaxis\": \"x\", \"y\": [2, 4, 1, 0, 0], \"yaxis\": \"y\"}, {\"hovertemplate\": \"variable=Liberty<br>index=%{x}<br>value=%{y}<extra></extra>\", \"legendgroup\": \"Liberty\", \"line\": {\"color\": \"#19d3f3\", \"dash\": \"solid\"}, \"mode\": \"lines\", \"name\": \"Liberty\", \"orientation\": \"v\", \"showlegend\": true, \"type\": \"scatter\", \"x\": [\"Total Admitted 2017\", \"Total Admitted 2018\", \"Total Admitted 2019\", \"Total Admitted 2020\", \"Total Admitted 2021\"], \"xaxis\": \"x\", \"y\": [3, 1, 2, 5, 1], \"yaxis\": \"y\"}, {\"hovertemplate\": \"variable=Longfellow<br>index=%{x}<br>value=%{y}<extra></extra>\", \"legendgroup\": \"Longfellow\", \"line\": {\"color\": \"#FF6692\", \"dash\": \"solid\"}, \"mode\": \"lines\", \"name\": \"Longfellow\", \"orientation\": \"v\", \"showlegend\": true, \"type\": \"scatter\", \"x\": [\"Total Admitted 2017\", \"Total Admitted 2018\", \"Total Admitted 2019\", \"Total Admitted 2020\", \"Total Admitted 2021\"], \"xaxis\": \"x\", \"y\": [55, 54, 66, 45, 64], \"yaxis\": \"y\"}, {\"hovertemplate\": \"variable=Poe<br>index=%{x}<br>value=%{y}<extra></extra>\", \"legendgroup\": \"Poe\", \"line\": {\"color\": \"#B6E880\", \"dash\": \"solid\"}, \"mode\": \"lines\", \"name\": \"Poe\", \"orientation\": \"v\", \"showlegend\": true, \"type\": \"scatter\", \"x\": [\"Total Admitted 2017\", \"Total Admitted 2018\", \"Total Admitted 2019\", \"Total Admitted 2020\", \"Total Admitted 2021\"], \"xaxis\": \"x\", \"y\": [0, 1, 1, 1, 0], \"yaxis\": \"y\"}, {\"hovertemplate\": \"variable=Robinson<br>index=%{x}<br>value=%{y}<extra></extra>\", \"legendgroup\": \"Robinson\", \"line\": {\"color\": \"#FF97FF\", \"dash\": \"solid\"}, \"mode\": \"lines\", \"name\": \"Robinson\", \"orientation\": \"v\", \"showlegend\": true, \"type\": \"scatter\", \"x\": [\"Total Admitted 2017\", \"Total Admitted 2018\", \"Total Admitted 2019\", \"Total Admitted 2020\", \"Total Admitted 2021\"], \"xaxis\": \"x\", \"y\": [6, 5, 2, 4, 5], \"yaxis\": \"y\"}, {\"hovertemplate\": \"variable=Rocky Run<br>index=%{x}<br>value=%{y}<extra></extra>\", \"legendgroup\": \"Rocky Run\", \"line\": {\"color\": \"#FECB52\", \"dash\": \"solid\"}, \"mode\": \"lines\", \"name\": \"Rocky Run\", \"orientation\": \"v\", \"showlegend\": true, \"type\": \"scatter\", \"x\": [\"Total Admitted 2017\", \"Total Admitted 2018\", \"Total Admitted 2019\", \"Total Admitted 2020\", \"Total Admitted 2021\"], \"xaxis\": \"x\", \"y\": [55, 56, 45, 37, 39], \"yaxis\": \"y\"}, {\"hovertemplate\": \"variable=Sandburg<br>index=%{x}<br>value=%{y}<extra></extra>\", \"legendgroup\": \"Sandburg\", \"line\": {\"color\": \"#636efa\", \"dash\": \"solid\"}, \"mode\": \"lines\", \"name\": \"Sandburg\", \"orientation\": \"v\", \"showlegend\": true, \"type\": \"scatter\", \"x\": [\"Total Admitted 2017\", \"Total Admitted 2018\", \"Total Admitted 2019\", \"Total Admitted 2020\", \"Total Admitted 2021\"], \"xaxis\": \"x\", \"y\": [8, 4, 6, 5, 4], \"yaxis\": \"y\"}, {\"hovertemplate\": \"variable=South County<br>index=%{x}<br>value=%{y}<extra></extra>\", \"legendgroup\": \"South County\", \"line\": {\"color\": \"#EF553B\", \"dash\": \"solid\"}, \"mode\": \"lines\", \"name\": \"South County\", \"orientation\": \"v\", \"showlegend\": true, \"type\": \"scatter\", \"x\": [\"Total Admitted 2017\", \"Total Admitted 2018\", \"Total Admitted 2019\", \"Total Admitted 2020\", \"Total Admitted 2021\"], \"xaxis\": \"x\", \"y\": [0, 5, 3, 6, 6], \"yaxis\": \"y\"}, {\"hovertemplate\": \"variable=Stone<br>index=%{x}<br>value=%{y}<extra></extra>\", \"legendgroup\": \"Stone\", \"line\": {\"color\": \"#00cc96\", \"dash\": \"solid\"}, \"mode\": \"lines\", \"name\": \"Stone\", \"orientation\": \"v\", \"showlegend\": true, \"type\": \"scatter\", \"x\": [\"Total Admitted 2017\", \"Total Admitted 2018\", \"Total Admitted 2019\", \"Total Admitted 2020\", \"Total Admitted 2021\"], \"xaxis\": \"x\", \"y\": [1, 4, 0, 1, 0], \"yaxis\": \"y\"}, {\"hovertemplate\": \"variable=Thoreau<br>index=%{x}<br>value=%{y}<extra></extra>\", \"legendgroup\": \"Thoreau\", \"line\": {\"color\": \"#ab63fa\", \"dash\": \"solid\"}, \"mode\": \"lines\", \"name\": \"Thoreau\", \"orientation\": \"v\", \"showlegend\": true, \"type\": \"scatter\", \"x\": [\"Total Admitted 2017\", \"Total Admitted 2018\", \"Total Admitted 2019\", \"Total Admitted 2020\", \"Total Admitted 2021\"], \"xaxis\": \"x\", \"y\": [2, 2, 3, 4, 11], \"yaxis\": \"y\"}, {\"hovertemplate\": \"variable=Twain<br>index=%{x}<br>value=%{y}<extra></extra>\", \"legendgroup\": \"Twain\", \"line\": {\"color\": \"#FFA15A\", \"dash\": \"solid\"}, \"mode\": \"lines\", \"name\": \"Twain\", \"orientation\": \"v\", \"showlegend\": true, \"type\": \"scatter\", \"x\": [\"Total Admitted 2017\", \"Total Admitted 2018\", \"Total Admitted 2019\", \"Total Admitted 2020\", \"Total Admitted 2021\"], \"xaxis\": \"x\", \"y\": [12, 11, 12, 11, 10], \"yaxis\": \"y\"}, {\"hovertemplate\": \"variable=Whitman<br>index=%{x}<br>value=%{y}<extra></extra>\", \"legendgroup\": \"Whitman\", \"line\": {\"color\": \"#19d3f3\", \"dash\": \"solid\"}, \"mode\": \"lines\", \"name\": \"Whitman\", \"orientation\": \"v\", \"showlegend\": true, \"type\": \"scatter\", \"x\": [\"Total Admitted 2017\", \"Total Admitted 2018\", \"Total Admitted 2019\", \"Total Admitted 2020\", \"Total Admitted 2021\"], \"xaxis\": \"x\", \"y\": [0, 1, 0, 0, 0], \"yaxis\": \"y\"}],                        {\"legend\": {\"title\": {\"text\": \"variable\"}, \"tracegroupgap\": 0}, \"template\": {\"data\": {\"bar\": [{\"error_x\": {\"color\": \"#2a3f5f\"}, \"error_y\": {\"color\": \"#2a3f5f\"}, \"marker\": {\"line\": {\"color\": \"#E5ECF6\", \"width\": 0.5}}, \"type\": \"bar\"}], \"barpolar\": [{\"marker\": {\"line\": {\"color\": \"#E5ECF6\", \"width\": 0.5}}, \"type\": \"barpolar\"}], \"carpet\": [{\"aaxis\": {\"endlinecolor\": \"#2a3f5f\", \"gridcolor\": \"white\", \"linecolor\": \"white\", \"minorgridcolor\": \"white\", \"startlinecolor\": \"#2a3f5f\"}, \"baxis\": {\"endlinecolor\": \"#2a3f5f\", \"gridcolor\": \"white\", \"linecolor\": \"white\", \"minorgridcolor\": \"white\", \"startlinecolor\": \"#2a3f5f\"}, \"type\": \"carpet\"}], \"choropleth\": [{\"colorbar\": {\"outlinewidth\": 0, \"ticks\": \"\"}, \"type\": \"choropleth\"}], \"contour\": [{\"colorbar\": {\"outlinewidth\": 0, \"ticks\": \"\"}, \"colorscale\": [[0.0, \"#0d0887\"], [0.1111111111111111, \"#46039f\"], [0.2222222222222222, \"#7201a8\"], [0.3333333333333333, \"#9c179e\"], [0.4444444444444444, \"#bd3786\"], [0.5555555555555556, \"#d8576b\"], [0.6666666666666666, \"#ed7953\"], [0.7777777777777778, \"#fb9f3a\"], [0.8888888888888888, \"#fdca26\"], [1.0, \"#f0f921\"]], \"type\": \"contour\"}], \"contourcarpet\": [{\"colorbar\": {\"outlinewidth\": 0, \"ticks\": \"\"}, \"type\": \"contourcarpet\"}], \"heatmap\": [{\"colorbar\": {\"outlinewidth\": 0, \"ticks\": \"\"}, \"colorscale\": [[0.0, \"#0d0887\"], [0.1111111111111111, \"#46039f\"], [0.2222222222222222, \"#7201a8\"], [0.3333333333333333, \"#9c179e\"], [0.4444444444444444, \"#bd3786\"], [0.5555555555555556, \"#d8576b\"], [0.6666666666666666, \"#ed7953\"], [0.7777777777777778, \"#fb9f3a\"], [0.8888888888888888, \"#fdca26\"], [1.0, \"#f0f921\"]], \"type\": \"heatmap\"}], \"heatmapgl\": [{\"colorbar\": {\"outlinewidth\": 0, \"ticks\": \"\"}, \"colorscale\": [[0.0, \"#0d0887\"], [0.1111111111111111, \"#46039f\"], [0.2222222222222222, \"#7201a8\"], [0.3333333333333333, \"#9c179e\"], [0.4444444444444444, \"#bd3786\"], [0.5555555555555556, \"#d8576b\"], [0.6666666666666666, \"#ed7953\"], [0.7777777777777778, \"#fb9f3a\"], [0.8888888888888888, \"#fdca26\"], [1.0, \"#f0f921\"]], \"type\": \"heatmapgl\"}], \"histogram\": [{\"marker\": {\"colorbar\": {\"outlinewidth\": 0, \"ticks\": \"\"}}, \"type\": \"histogram\"}], \"histogram2d\": [{\"colorbar\": {\"outlinewidth\": 0, \"ticks\": \"\"}, \"colorscale\": [[0.0, \"#0d0887\"], [0.1111111111111111, \"#46039f\"], [0.2222222222222222, \"#7201a8\"], [0.3333333333333333, \"#9c179e\"], [0.4444444444444444, \"#bd3786\"], [0.5555555555555556, \"#d8576b\"], [0.6666666666666666, \"#ed7953\"], [0.7777777777777778, \"#fb9f3a\"], [0.8888888888888888, \"#fdca26\"], [1.0, \"#f0f921\"]], \"type\": \"histogram2d\"}], \"histogram2dcontour\": [{\"colorbar\": {\"outlinewidth\": 0, \"ticks\": \"\"}, \"colorscale\": [[0.0, \"#0d0887\"], [0.1111111111111111, \"#46039f\"], [0.2222222222222222, \"#7201a8\"], [0.3333333333333333, \"#9c179e\"], [0.4444444444444444, \"#bd3786\"], [0.5555555555555556, \"#d8576b\"], [0.6666666666666666, \"#ed7953\"], [0.7777777777777778, \"#fb9f3a\"], [0.8888888888888888, \"#fdca26\"], [1.0, \"#f0f921\"]], \"type\": \"histogram2dcontour\"}], \"mesh3d\": [{\"colorbar\": {\"outlinewidth\": 0, \"ticks\": \"\"}, \"type\": \"mesh3d\"}], \"parcoords\": [{\"line\": {\"colorbar\": {\"outlinewidth\": 0, \"ticks\": \"\"}}, \"type\": \"parcoords\"}], \"pie\": [{\"automargin\": true, \"type\": \"pie\"}], \"scatter\": [{\"marker\": {\"colorbar\": {\"outlinewidth\": 0, \"ticks\": \"\"}}, \"type\": \"scatter\"}], \"scatter3d\": [{\"line\": {\"colorbar\": {\"outlinewidth\": 0, \"ticks\": \"\"}}, \"marker\": {\"colorbar\": {\"outlinewidth\": 0, \"ticks\": \"\"}}, \"type\": \"scatter3d\"}], \"scattercarpet\": [{\"marker\": {\"colorbar\": {\"outlinewidth\": 0, \"ticks\": \"\"}}, \"type\": \"scattercarpet\"}], \"scattergeo\": [{\"marker\": {\"colorbar\": {\"outlinewidth\": 0, \"ticks\": \"\"}}, \"type\": \"scattergeo\"}], \"scattergl\": [{\"marker\": {\"colorbar\": {\"outlinewidth\": 0, \"ticks\": \"\"}}, \"type\": \"scattergl\"}], \"scattermapbox\": [{\"marker\": {\"colorbar\": {\"outlinewidth\": 0, \"ticks\": \"\"}}, \"type\": \"scattermapbox\"}], \"scatterpolar\": [{\"marker\": {\"colorbar\": {\"outlinewidth\": 0, \"ticks\": \"\"}}, \"type\": \"scatterpolar\"}], \"scatterpolargl\": [{\"marker\": {\"colorbar\": {\"outlinewidth\": 0, \"ticks\": \"\"}}, \"type\": \"scatterpolargl\"}], \"scatterternary\": [{\"marker\": {\"colorbar\": {\"outlinewidth\": 0, \"ticks\": \"\"}}, \"type\": \"scatterternary\"}], \"surface\": [{\"colorbar\": {\"outlinewidth\": 0, \"ticks\": \"\"}, \"colorscale\": [[0.0, \"#0d0887\"], [0.1111111111111111, \"#46039f\"], [0.2222222222222222, \"#7201a8\"], [0.3333333333333333, \"#9c179e\"], [0.4444444444444444, \"#bd3786\"], [0.5555555555555556, \"#d8576b\"], [0.6666666666666666, \"#ed7953\"], [0.7777777777777778, \"#fb9f3a\"], [0.8888888888888888, \"#fdca26\"], [1.0, \"#f0f921\"]], \"type\": \"surface\"}], \"table\": [{\"cells\": {\"fill\": {\"color\": \"#EBF0F8\"}, \"line\": {\"color\": \"white\"}}, \"header\": {\"fill\": {\"color\": \"#C8D4E3\"}, \"line\": {\"color\": \"white\"}}, \"type\": \"table\"}]}, \"layout\": {\"annotationdefaults\": {\"arrowcolor\": \"#2a3f5f\", \"arrowhead\": 0, \"arrowwidth\": 1}, \"coloraxis\": {\"colorbar\": {\"outlinewidth\": 0, \"ticks\": \"\"}}, \"colorscale\": {\"diverging\": [[0, \"#8e0152\"], [0.1, \"#c51b7d\"], [0.2, \"#de77ae\"], [0.3, \"#f1b6da\"], [0.4, \"#fde0ef\"], [0.5, \"#f7f7f7\"], [0.6, \"#e6f5d0\"], [0.7, \"#b8e186\"], [0.8, \"#7fbc41\"], [0.9, \"#4d9221\"], [1, \"#276419\"]], \"sequential\": [[0.0, \"#0d0887\"], [0.1111111111111111, \"#46039f\"], [0.2222222222222222, \"#7201a8\"], [0.3333333333333333, \"#9c179e\"], [0.4444444444444444, \"#bd3786\"], [0.5555555555555556, \"#d8576b\"], [0.6666666666666666, \"#ed7953\"], [0.7777777777777778, \"#fb9f3a\"], [0.8888888888888888, \"#fdca26\"], [1.0, \"#f0f921\"]], \"sequentialminus\": [[0.0, \"#0d0887\"], [0.1111111111111111, \"#46039f\"], [0.2222222222222222, \"#7201a8\"], [0.3333333333333333, \"#9c179e\"], [0.4444444444444444, \"#bd3786\"], [0.5555555555555556, \"#d8576b\"], [0.6666666666666666, \"#ed7953\"], [0.7777777777777778, \"#fb9f3a\"], [0.8888888888888888, \"#fdca26\"], [1.0, \"#f0f921\"]]}, \"colorway\": [\"#636efa\", \"#EF553B\", \"#00cc96\", \"#ab63fa\", \"#FFA15A\", \"#19d3f3\", \"#FF6692\", \"#B6E880\", \"#FF97FF\", \"#FECB52\"], \"font\": {\"color\": \"#2a3f5f\"}, \"geo\": {\"bgcolor\": \"white\", \"lakecolor\": \"white\", \"landcolor\": \"#E5ECF6\", \"showlakes\": true, \"showland\": true, \"subunitcolor\": \"white\"}, \"hoverlabel\": {\"align\": \"left\"}, \"hovermode\": \"closest\", \"mapbox\": {\"style\": \"light\"}, \"paper_bgcolor\": \"white\", \"plot_bgcolor\": \"#E5ECF6\", \"polar\": {\"angularaxis\": {\"gridcolor\": \"white\", \"linecolor\": \"white\", \"ticks\": \"\"}, \"bgcolor\": \"#E5ECF6\", \"radialaxis\": {\"gridcolor\": \"white\", \"linecolor\": \"white\", \"ticks\": \"\"}}, \"scene\": {\"xaxis\": {\"backgroundcolor\": \"#E5ECF6\", \"gridcolor\": \"white\", \"gridwidth\": 2, \"linecolor\": \"white\", \"showbackground\": true, \"ticks\": \"\", \"zerolinecolor\": \"white\"}, \"yaxis\": {\"backgroundcolor\": \"#E5ECF6\", \"gridcolor\": \"white\", \"gridwidth\": 2, \"linecolor\": \"white\", \"showbackground\": true, \"ticks\": \"\", \"zerolinecolor\": \"white\"}, \"zaxis\": {\"backgroundcolor\": \"#E5ECF6\", \"gridcolor\": \"white\", \"gridwidth\": 2, \"linecolor\": \"white\", \"showbackground\": true, \"ticks\": \"\", \"zerolinecolor\": \"white\"}}, \"shapedefaults\": {\"line\": {\"color\": \"#2a3f5f\"}}, \"ternary\": {\"aaxis\": {\"gridcolor\": \"white\", \"linecolor\": \"white\", \"ticks\": \"\"}, \"baxis\": {\"gridcolor\": \"white\", \"linecolor\": \"white\", \"ticks\": \"\"}, \"bgcolor\": \"#E5ECF6\", \"caxis\": {\"gridcolor\": \"white\", \"linecolor\": \"white\", \"ticks\": \"\"}}, \"title\": {\"x\": 0.05}, \"xaxis\": {\"automargin\": true, \"gridcolor\": \"white\", \"linecolor\": \"white\", \"ticks\": \"\", \"title\": {\"standoff\": 15}, \"zerolinecolor\": \"white\", \"zerolinewidth\": 2}, \"yaxis\": {\"automargin\": true, \"gridcolor\": \"white\", \"linecolor\": \"white\", \"ticks\": \"\", \"title\": {\"standoff\": 15}, \"zerolinecolor\": \"white\", \"zerolinewidth\": 2}}}, \"title\": {\"text\": \"TJ Admissions by Middle School for Class of 2017-2021\"}, \"xaxis\": {\"anchor\": \"y\", \"domain\": [0.0, 1.0], \"title\": {\"text\": \"index\"}}, \"yaxis\": {\"anchor\": \"x\", \"domain\": [0.0, 1.0], \"title\": {\"text\": \"value\"}}},                        {\"responsive\": true}                    ).then(function(){\n",
       "                            \n",
       "var gd = document.getElementById('b7e7b24e-4ee2-4df7-8def-bc016ab3eaf9');\n",
       "var x = new MutationObserver(function (mutations, observer) {{\n",
       "        var display = window.getComputedStyle(gd).display;\n",
       "        if (!display || display === 'none') {{\n",
       "            console.log([gd, 'removed!']);\n",
       "            Plotly.purge(gd);\n",
       "            observer.disconnect();\n",
       "        }}\n",
       "}});\n",
       "\n",
       "// Listen for the removal of the full notebook cells\n",
       "var notebookContainer = gd.closest('#notebook-container');\n",
       "if (notebookContainer) {{\n",
       "    x.observe(notebookContainer, {childList: true});\n",
       "}}\n",
       "\n",
       "// Listen for the clearing of the current output cell\n",
       "var outputEl = gd.closest('.output');\n",
       "if (outputEl) {{\n",
       "    x.observe(outputEl, {childList: true});\n",
       "}}\n",
       "\n",
       "                        })                };                });            </script>        </div>"
      ]
     },
     "metadata": {},
     "output_type": "display_data"
    }
   ],
   "source": [
    "#plotly - use this \n",
    "import plotly.express as px\n",
    "#load data into the figure\n",
    "fig = px.line(MS_TJ_admissions, title='TJ Admissions by Middle School for Class of 2017-2021')\n",
    "# Show plot \n",
    "fig.show()"
   ]
  },
  {
   "cell_type": "code",
   "execution_count": null,
   "metadata": {},
   "outputs": [],
   "source": []
  }
 ],
 "metadata": {
  "kernelspec": {
   "display_name": "Python 3",
   "language": "python",
   "name": "python3"
  },
  "language_info": {
   "codemirror_mode": {
    "name": "ipython",
    "version": 3
   },
   "file_extension": ".py",
   "mimetype": "text/x-python",
   "name": "python",
   "nbconvert_exporter": "python",
   "pygments_lexer": "ipython3",
   "version": "3.7.7"
  }
 },
 "nbformat": 4,
 "nbformat_minor": 4
}
